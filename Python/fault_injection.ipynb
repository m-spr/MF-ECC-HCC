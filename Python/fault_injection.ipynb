{
 "cells": [
  {
   "cell_type": "code",
   "execution_count": 1,
   "metadata": {},
   "outputs": [],
   "source": [
    "import os\n",
    "#os.system('pwd')\n",
    "\n",
    "import torch\n",
    "import torchhd\n",
    "from torchhd.models import Centroid\n",
    "from torchhd import embeddings\n",
    "import torchvision\n",
    "from torchvision.datasets import MNIST\n",
    "from torchhd.datasets.isolet import ISOLET\n",
    "from torchhd.datasets import EMGHandGestures\n",
    "#from torch_geometric.datasets import TUDataset\n",
    "import torchmetrics\n",
    "from tqdm import tqdm\n",
    "import numpy as np\n",
    "\n",
    "import torch.nn as nn\n",
    "import torch.nn.functional as F\n",
    "import random\n",
    "import json\n",
    "import math\n",
    "import seaborn as sns\n",
    "\n",
    "from scipy.interpolate import make_interp_spline\n",
    "from openpyxl import load_workbook\n",
    "import matplotlib.colors as mcolors\n",
    "from scipy.ndimage import gaussian_filter1d\n",
    "from torchmetrics.classification import MulticlassAccuracy\n",
    "from scipy.stats import gaussian_kde\n",
    "import matplotlib.pyplot as plt\n",
    "import pandas as pd\n",
    "import quant_models\n",
    "from torch.utils.data import DataLoader, TensorDataset"
   ]
  },
  {
   "cell_type": "code",
   "execution_count": 2,
   "metadata": {},
   "outputs": [
    {
     "name": "stdout",
     "output_type": "stream",
     "text": [
      "Using cpu device\n"
     ]
    }
   ],
   "source": [
    "device = torch.device(\"cuda\" if torch.cuda.is_available() else \"cpu\")\n",
    "print(\"Using {} device\".format(device))\n",
    "\n",
    "BATCH_SIZE = 1"
   ]
  },
  {
   "cell_type": "code",
   "execution_count": null,
   "metadata": {},
   "outputs": [],
   "source": [
    "# faults in CHV\n",
    "\n",
    "class Encoder_rand(nn.Module):\n",
    "    def __init__(self, out_features, size, levels):\n",
    "        super(Encoder_rand, self).__init__()\n",
    "        #self.flatten = torch.nn.Flatten(start_dim=-2)\n",
    "        self.project = embeddings.Sinusoid(size, out_features)\n",
    "        self.name=\"RandomProjectionEncoder\"\n",
    "    \n",
    "    def forward(self, x):\n",
    "        #x = self.flatten(x)\n",
    "        sample_hv = self.project(x)\n",
    "        #sample_hv = torchhd.multiset(sample_hv)\n",
    "        return torchhd.hard_quantize(sample_hv)\n",
    "\n",
    "###### =====================================BASE LEVEL=============================================\n",
    "\n",
    "class Encoder_base(nn.Module):\n",
    "    def __init__(self, out_features, size, levels):\n",
    "        super(Encoder_base, self).__init__()\n",
    "        #self.flatten = torch.nn.Flatten(start_dim=-2)\n",
    "        self.position = embeddings.Random(size, out_features)\n",
    "        self.value = embeddings.Level(levels, out_features)\n",
    "        self.name=\"BaseLevelEncoder\"\n",
    "\n",
    "    def forward(self, x):\n",
    "        #x = self.flatten(x)\n",
    "        sample_hv = torchhd.bind(self.position.weight, self.value(x))\n",
    "        sample_hv = torchhd.multiset(sample_hv)\n",
    "        return torchhd.hard_quantize(sample_hv)\n",
    "\n",
    "def inject_fault(input_weight, amount):\n",
    "    \"\"\"\n",
    "    Injects faults into a binary tensor (with bits == 1).\n",
    "    \n",
    "    Args:\n",
    "        input_weight (torch.Tensor): The input weight tensor to modify (binary values: -1 or +1).\n",
    "        amount (int): Number of faults to inject.\n",
    "\n",
    "    Returns:\n",
    "        torch.Tensor: Modified tensor with injected faults.\n",
    "    \"\"\"\n",
    "    rng = np.random.default_rng()\n",
    "\n",
    "    # Clone and flatten the weight data\n",
    "    weight_data = input_weight.clone()\n",
    "    rows, cols = weight_data.shape\n",
    "    flat_weights = F.relu(weight_data).type(torch.int).flatten()\n",
    "\n",
    "    # Convert -1/+1 to 0/1 (binary representation)\n",
    "    binary_weights = (flat_weights + 1) // 2\n",
    "\n",
    "    # Randomly select bit indices to flip\n",
    "    fault_indices = rng.choice(binary_weights.numel(), amount, replace=False)\n",
    "\n",
    "    # Flip the bits\n",
    "    binary_weights[fault_indices] = 1 - binary_weights[fault_indices]\n",
    "\n",
    "    # Convert back to -1/+1 representation\n",
    "    modified_weights = binary_weights * 2 - 1\n",
    "    faulty_weights = modified_weights.reshape(rows, cols)\n",
    "\n",
    "    return faulty_weights \n",
    "\n",
    "\n",
    "def CHV_with_correction(faultyclass, faultyECC, normalclass, normalECC, correction):\n",
    "    num_columns = faultyclass.shape[1]\n",
    "    finalCHV = normalclass.clone()\n",
    "    replace_count = 0\n",
    "    nonrep = 0\n",
    "    # print(faultyECC[:,0])\n",
    "    # print(normalECC[:,0])\n",
    "    print(\"faultyECC num\", (faultyECC != normalECC).sum(), end = \", \")\n",
    "    print(\"faultyclass num\", (faultyclass != normalclass).sum(), end = \", \")\n",
    "    for col in range(num_columns):\n",
    "        # Merge class and ECC by concatenating their column vectors\n",
    "        faulty_merged = torch.cat((faultyclass[:, col], faultyECC[:, col]))\n",
    "        normal_merged = torch.cat((normalclass[:, col], normalECC[:, col]))\n",
    "        \n",
    "        diff_count = (faulty_merged != normal_merged).sum().item()\n",
    "        \n",
    "        if diff_count > correction: \n",
    "            #correction\n",
    "            finalCHV[:, col] = faultyclass[:, col]\n",
    "            # # Calculate Hamming distance\n",
    "            # diff_count = (faulty_merged != normal_merged).sum().item()\n",
    "\n",
    "            # # If only 1 bit differs, replace with normalclass column\n",
    "            # if diff_count == 1:\n",
    "            #     finalCHV[:, col] = normalclass[:, col]\n",
    "            replace_count += 1\n",
    "        else:\n",
    "            nonrep +=1\n",
    "\n",
    "    print(f\"Number of replaced columns: {replace_count}, {nonrep}\")\n",
    "    return finalCHV\n",
    "\n",
    "def get_accuracy_with_correction(DIMENSION, encoder, quantize, dataset, faults, correction, ecc_bits):\n",
    "    # Load encoder and weights\n",
    "    path_prefix = f\"./models/{dataset}/{encoder}/\"\n",
    "    path_to_encoder = path_prefix + f\"enc_quantize_{quantize}_{DIMENSION}.pt\"\n",
    "    path_to_weights = path_prefix + f\"quantize_{quantize}_{DIMENSION}.pt\"\n",
    "\n",
    "    print(path_to_weights, path_to_encoder)\n",
    "\n",
    "\n",
    "    weights = torch.load(path_to_weights, map_location= torch.device('cpu'))\n",
    "    encode = torch.load(path_to_encoder, map_location= torch.device('cpu'), weights_only = False)\n",
    "\n",
    "    num_classes = weights.shape[0]\n",
    "    model = Centroid(int(DIMENSION), num_classes)\n",
    "    model.weight.data = weights\n",
    "    normalECC = torch.ones(ecc_bits, int(DIMENSION))\n",
    "    # print(weights[:,605])\n",
    "    # Dataset setup\n",
    "    transform = torchvision.transforms.ToTensor()\n",
    "    if dataset == \"mnist\":\n",
    "        test_ds = MNIST(\"./data\", train=False, transform=transform, download=True)\n",
    "    elif dataset == \"isolet\":\n",
    "        test_ds = ISOLET(\"./data\", train=False, download=True)\n",
    "    test_ld = torch.utils.data.DataLoader(test_ds, batch_size=BATCH_SIZE, shuffle=False)\n",
    "\n",
    "    class_fault = int(weights.numel() *faults)\n",
    "    ECC_fault = int(normalECC.numel() *faults)\n",
    "    print(\"---- \", weights.numel(), faults, class_fault, ECC_fault)\n",
    "    faultyW = inject_fault(weights, class_fault)\n",
    "    faultyECC = inject_fault(normalECC, ECC_fault)\n",
    "    model.weight.data = faultyW\n",
    "\n",
    "    # Accuracy on faulty weights\n",
    "    accuracy = torchmetrics.Accuracy(\"multiclass\", num_classes=num_classes)\n",
    "    accuracy.reset()\n",
    "    for samples, labels in tqdm(test_ld, desc=\"Testing Faulty\", disable=True):\n",
    "        samples = samples.flatten(start_dim=-2)\n",
    "        samples_hv = encode(samples)\n",
    "        outputs = model(samples_hv, dot=True)\n",
    "        accuracy.update(torch.argmax(outputs.cpu(),dim=-1).flatten(), labels)\n",
    "    accFaulty = accuracy.compute().item()\n",
    "    print(\"accFaulty \", accFaulty)\n",
    "    # Accuracy after correction fault free ECC\n",
    "    wCorrected = CHV_with_correction(faultyW, normalECC, weights, normalECC, correction)\n",
    "\n",
    "    model.weight.data = wCorrected\n",
    "\n",
    "    accuracy.reset()\n",
    "    for samples, labels in tqdm(test_ld, desc=\"Testing Corrected\", disable=True):\n",
    "        samples = samples.flatten(start_dim=-2)\n",
    "        samples_hv = encode(samples)\n",
    "        outputs = model(samples_hv, dot=True)\n",
    "        accuracy.update(torch.argmax(outputs.cpu(),dim=-1).flatten(), labels)\n",
    "    accWithCorrectionfaultfreeECC = accuracy.compute().item()\n",
    "    print(\"accWithCorrectionfaultfreeECC \", accWithCorrectionfaultfreeECC)\n",
    "\n",
    "    # Accuracy after correction normal memory ECC\n",
    "    wCorrected = CHV_with_correction(faultyW, faultyECC, weights, normalECC, correction)\n",
    "\n",
    "    model.weight.data = wCorrected\n",
    "\n",
    "    accuracy.reset()\n",
    "    for samples, labels in tqdm(test_ld, desc=\"Testing Corrected\", disable=True):\n",
    "        samples = samples.flatten(start_dim=-2)\n",
    "        samples_hv = encode(samples)\n",
    "        outputs = model(samples_hv, dot=True)\n",
    "        accuracy.update(torch.argmax(outputs.cpu(),dim=-1).flatten(), labels)\n",
    "    accWithCorrection = accuracy.compute().item()\n",
    "    print(\"accWithCorrection \", accWithCorrection)\n",
    "\n",
    "    return accFaulty, accWithCorrectionfaultfreeECC, accWithCorrection\n",
    "\n",
    "\n",
    "def log_run_result(faults, accFaulty, accWithCorrectionfaultfreeECC, accWithCorrection,DIMENSION, encoder, dataset ):\n",
    "    file_path=f\"{DIMENSION}_{encoder}_{dataset}_accuracy_results.json\"\n",
    "    result = {\n",
    "        \"faults\": faults,\n",
    "        \"accFaulty\": accFaulty,\n",
    "        \"accWithCorrectionfaultfreeECC\" : accWithCorrectionfaultfreeECC,\n",
    "        \"accWithCorrection\": accWithCorrection\n",
    "    }\n",
    "\n",
    "    # Load existing results if the file exists\n",
    "    # if os.path.exists(file_path):\n",
    "    #     with open(file_path, \"r\") as f:\n",
    "    #         data = json.load(f)\n",
    "    # else:\n",
    "    #     data = []\n",
    "\n",
    "    # data.append(result)\n",
    "\n",
    "    # Save updated list\n",
    "    with open(file_path, \"w\") as f:\n",
    "        json.dump(result, f, indent=4)\n",
    "\n",
    "\n",
    "def plot_results(DIMENSION, encoder, dataset):\n",
    "    file_path=f\"{DIMENSION}_{encoder}_{dataset}_accuracy_results.json\"\n",
    "    with open(file_path, \"r\") as f:\n",
    "        data = json.load(f)\n",
    "\n",
    "    faults = [entry[\"faults\"] for entry in data]\n",
    "    acc_faulty = [entry[\"accFaulty\"] for entry in data]\n",
    "    acc_corrected = [entry[\"accWithCorrection\"] for entry in data]\n",
    "    acc_corrected_fault_free_ECC = [entry[\"accWithCorrectionfaultfreeECC\"] for entry in data]\n",
    "\n",
    "    plt.plot(faults, acc_faulty, label=\"Faulty Accuracy\")\n",
    "    plt.plot(faults, acc_corrected, label=\"Accuracy with faulty ECC\")\n",
    "    plt.plot(faults, acc_corrected_fault_free_ECC, label=\"Accuracy with fault free\")\n",
    "    plt.xlabel(\"Percentage of Faults\")\n",
    "    plt.ylabel(\"Accuracy\")\n",
    "    #plt.title(\"Accuracy vs Number of Faults\")\n",
    "    plt.legend()\n",
    "    #plt.grid(True)\n",
    "    # plt.show()\n",
    "    plt.savefig(f\"{DIMENSION}_{encoder}_{dataset}.png\")"
   ]
  },
  {
   "cell_type": "code",
   "execution_count": null,
   "metadata": {},
   "outputs": [
    {
     "name": "stdout",
     "output_type": "stream",
     "text": [
      "./models/isolet/BaseLevelEncoder/quantize_1_5000.pt ./models/isolet/BaseLevelEncoder/enc_quantize_1_5000.pt\n",
      "Files already downloaded and verified\n",
      "----  130000 0 0 0\n"
     ]
    },
    {
     "name": "stderr",
     "output_type": "stream",
     "text": [
      "/tmp/ipykernel_754969/167602683.py:30: DeprecationWarning: torchhd.hard_quantize is deprecated, consider using torchhd.normalize instead.\n",
      "  return torchhd.hard_quantize(sample_hv)\n"
     ]
    },
    {
     "name": "stdout",
     "output_type": "stream",
     "text": [
      "accFaulty  0.8101347088813782\n",
      "faultyECC num tensor(0), faultyclass num tensor(0), Number of replaced columns: 0, 5000\n",
      "accWithCorrectionfaultfreeECC  0.8101347088813782\n",
      "faultyECC num tensor(0), faultyclass num tensor(0), Number of replaced columns: 0, 5000\n",
      "accWithCorrection  0.8101347088813782\n",
      "./models/isolet/BaseLevelEncoder/quantize_1_5000.pt ./models/isolet/BaseLevelEncoder/enc_quantize_1_5000.pt\n",
      "Files already downloaded and verified\n",
      "----  130000 0.03 3900 750\n"
     ]
    },
    {
     "name": "stderr",
     "output_type": "stream",
     "text": [
      "/tmp/ipykernel_754969/167602683.py:30: DeprecationWarning: torchhd.hard_quantize is deprecated, consider using torchhd.normalize instead.\n",
      "  return torchhd.hard_quantize(sample_hv)\n"
     ]
    },
    {
     "name": "stdout",
     "output_type": "stream",
     "text": [
      "accFaulty  0.7703655958175659\n",
      "faultyECC num tensor(0), faultyclass num tensor(3900), Number of replaced columns: 930, 4070\n",
      "accWithCorrectionfaultfreeECC  0.7979474067687988\n",
      "faultyECC num tensor(750), faultyclass num tensor(3900), Number of replaced columns: 1199, 3801\n",
      "accWithCorrection  0.7934573292732239\n",
      "./models/isolet/BaseLevelEncoder/quantize_1_5000.pt ./models/isolet/BaseLevelEncoder/enc_quantize_1_5000.pt\n",
      "Files already downloaded and verified\n",
      "----  130000 0.06 7800 1500\n"
     ]
    },
    {
     "name": "stderr",
     "output_type": "stream",
     "text": [
      "/tmp/ipykernel_754969/167602683.py:30: DeprecationWarning: torchhd.hard_quantize is deprecated, consider using torchhd.normalize instead.\n",
      "  return torchhd.hard_quantize(sample_hv)\n"
     ]
    },
    {
     "name": "stdout",
     "output_type": "stream",
     "text": [
      "accFaulty  0.7568954229354858\n",
      "faultyECC num tensor(0), faultyclass num tensor(7800), Number of replaced columns: 2308, 2692\n",
      "accWithCorrectionfaultfreeECC  0.7633098363876343\n",
      "faultyECC num tensor(1500), faultyclass num tensor(7800), Number of replaced columns: 2791, 2209\n",
      "accWithCorrection  0.764592707157135\n",
      "./models/isolet/BaseLevelEncoder/quantize_1_5000.pt ./models/isolet/BaseLevelEncoder/enc_quantize_1_5000.pt\n",
      "Files already downloaded and verified\n",
      "----  130000 0.09 11700 2250\n"
     ]
    },
    {
     "name": "stderr",
     "output_type": "stream",
     "text": [
      "/tmp/ipykernel_754969/167602683.py:30: DeprecationWarning: torchhd.hard_quantize is deprecated, consider using torchhd.normalize instead.\n",
      "  return torchhd.hard_quantize(sample_hv)\n"
     ]
    },
    {
     "name": "stdout",
     "output_type": "stream",
     "text": [
      "accFaulty  0.6908274292945862\n",
      "faultyECC num tensor(0), faultyclass num tensor(11700), Number of replaced columns: 3464, 1536\n",
      "accWithCorrectionfaultfreeECC  0.7030147314071655\n",
      "faultyECC num tensor(2250), faultyclass num tensor(11700), Number of replaced columns: 3920, 1080\n",
      "accWithCorrection  0.7010904550552368\n",
      "./models/isolet/BaseLevelEncoder/quantize_1_5000.pt ./models/isolet/BaseLevelEncoder/enc_quantize_1_5000.pt\n",
      "Files already downloaded and verified\n",
      "----  130000 0.12 15600 3000\n"
     ]
    },
    {
     "name": "stderr",
     "output_type": "stream",
     "text": [
      "/tmp/ipykernel_754969/167602683.py:30: DeprecationWarning: torchhd.hard_quantize is deprecated, consider using torchhd.normalize instead.\n",
      "  return torchhd.hard_quantize(sample_hv)\n"
     ]
    },
    {
     "name": "stdout",
     "output_type": "stream",
     "text": [
      "accFaulty  0.6812059283256531\n",
      "faultyECC num tensor(0), faultyclass num tensor(15600), Number of replaced columns: 4213, 787\n",
      "accWithCorrectionfaultfreeECC  0.6856959462165833\n",
      "faultyECC num tensor(3000), faultyclass num tensor(15600), Number of replaced columns: 4502, 498\n",
      "accWithCorrection  0.6856959462165833\n",
      "./models/isolet/BaseLevelEncoder/quantize_1_5000.pt ./models/isolet/BaseLevelEncoder/enc_quantize_1_5000.pt\n",
      "Files already downloaded and verified\n",
      "----  130000 0.15 19500 3750\n"
     ]
    },
    {
     "name": "stderr",
     "output_type": "stream",
     "text": [
      "/tmp/ipykernel_754969/167602683.py:30: DeprecationWarning: torchhd.hard_quantize is deprecated, consider using torchhd.normalize instead.\n",
      "  return torchhd.hard_quantize(sample_hv)\n"
     ]
    },
    {
     "name": "stdout",
     "output_type": "stream",
     "text": [
      "accFaulty  0.6799229979515076\n",
      "faultyECC num tensor(0), faultyclass num tensor(19500), Number of replaced columns: 4582, 418\n",
      "accWithCorrectionfaultfreeECC  0.6824887990951538\n",
      "faultyECC num tensor(3750), faultyclass num tensor(19500), Number of replaced columns: 4788, 212\n",
      "accWithCorrection  0.6837716698646545\n",
      "./models/isolet/BaseLevelEncoder/quantize_1_5000.pt ./models/isolet/BaseLevelEncoder/enc_quantize_1_5000.pt\n",
      "Files already downloaded and verified\n",
      "----  130000 0.18 23400 4500\n"
     ]
    },
    {
     "name": "stderr",
     "output_type": "stream",
     "text": [
      "/tmp/ipykernel_754969/167602683.py:30: DeprecationWarning: torchhd.hard_quantize is deprecated, consider using torchhd.normalize instead.\n",
      "  return torchhd.hard_quantize(sample_hv)\n"
     ]
    },
    {
     "name": "stdout",
     "output_type": "stream",
     "text": [
      "accFaulty  0.5728030800819397\n",
      "faultyECC num tensor(0), faultyclass num tensor(23400), Number of replaced columns: 4807, 193\n",
      "accWithCorrectionfaultfreeECC  0.5779345631599426\n",
      "faultyECC num tensor(4500), faultyclass num tensor(23400), Number of replaced columns: 4917, 83\n",
      "accWithCorrection  0.5792174339294434\n",
      "./models/isolet/BaseLevelEncoder/quantize_1_5000.pt ./models/isolet/BaseLevelEncoder/enc_quantize_1_5000.pt\n",
      "Files already downloaded and verified\n",
      "----  130000 0.21 27300 5250\n"
     ]
    },
    {
     "name": "stderr",
     "output_type": "stream",
     "text": [
      "/tmp/ipykernel_754969/167602683.py:30: DeprecationWarning: torchhd.hard_quantize is deprecated, consider using torchhd.normalize instead.\n",
      "  return torchhd.hard_quantize(sample_hv)\n"
     ]
    },
    {
     "name": "stdout",
     "output_type": "stream",
     "text": [
      "accFaulty  0.5246953368186951\n",
      "faultyECC num tensor(0), faultyclass num tensor(27300), Number of replaced columns: 4914, 86\n",
      "accWithCorrectionfaultfreeECC  0.5349583029747009\n",
      "faultyECC num tensor(5250), faultyclass num tensor(27300), Number of replaced columns: 4969, 31\n",
      "accWithCorrection  0.529826819896698\n",
      "./models/isolet/BaseLevelEncoder/quantize_1_5000.pt ./models/isolet/BaseLevelEncoder/enc_quantize_1_5000.pt\n",
      "Files already downloaded and verified\n",
      "----  130000 0.24 31200 6000\n"
     ]
    },
    {
     "name": "stderr",
     "output_type": "stream",
     "text": [
      "/tmp/ipykernel_754969/167602683.py:30: DeprecationWarning: torchhd.hard_quantize is deprecated, consider using torchhd.normalize instead.\n",
      "  return torchhd.hard_quantize(sample_hv)\n"
     ]
    },
    {
     "name": "stdout",
     "output_type": "stream",
     "text": [
      "accFaulty  0.49903783202171326\n",
      "faultyECC num tensor(0), faultyclass num tensor(31200), Number of replaced columns: 4967, 33\n",
      "accWithCorrectionfaultfreeECC  0.5022450089454651\n",
      "faultyECC num tensor(6000), faultyclass num tensor(31200), Number of replaced columns: 4986, 14\n",
      "accWithCorrection  0.4958306550979614\n",
      "./models/isolet/BaseLevelEncoder/quantize_1_5000.pt ./models/isolet/BaseLevelEncoder/enc_quantize_1_5000.pt\n",
      "Files already downloaded and verified\n",
      "----  130000 0.27 35100 6750\n"
     ]
    },
    {
     "name": "stderr",
     "output_type": "stream",
     "text": [
      "/tmp/ipykernel_754969/167602683.py:30: DeprecationWarning: torchhd.hard_quantize is deprecated, consider using torchhd.normalize instead.\n",
      "  return torchhd.hard_quantize(sample_hv)\n"
     ]
    },
    {
     "name": "stdout",
     "output_type": "stream",
     "text": [
      "accFaulty  0.4663245677947998\n",
      "faultyECC num tensor(0), faultyclass num tensor(35100), Number of replaced columns: 4984, 16\n",
      "accWithCorrectionfaultfreeECC  0.46568313241004944\n",
      "faultyECC num tensor(6750), faultyclass num tensor(35100), Number of replaced columns: 4997, 3\n",
      "accWithCorrection  0.46696600317955017\n",
      "./models/isolet/BaseLevelEncoder/quantize_1_5000.pt ./models/isolet/BaseLevelEncoder/enc_quantize_1_5000.pt\n",
      "Files already downloaded and verified\n",
      "----  130000 0.30000000000000004 39000 7500\n"
     ]
    },
    {
     "name": "stderr",
     "output_type": "stream",
     "text": [
      "/tmp/ipykernel_754969/167602683.py:30: DeprecationWarning: torchhd.hard_quantize is deprecated, consider using torchhd.normalize instead.\n",
      "  return torchhd.hard_quantize(sample_hv)\n"
     ]
    },
    {
     "name": "stdout",
     "output_type": "stream",
     "text": [
      "accFaulty  0.3559974431991577\n",
      "faultyECC num tensor(0), faultyclass num tensor(39000), Number of replaced columns: 4991, 9\n",
      "accWithCorrectionfaultfreeECC  0.354714572429657\n",
      "faultyECC num tensor(7500), faultyclass num tensor(39000), Number of replaced columns: 4999, 1\n",
      "accWithCorrection  0.3559974431991577\n",
      "./models/isolet/BaseLevelEncoder/quantize_1_5000.pt ./models/isolet/BaseLevelEncoder/enc_quantize_1_5000.pt\n",
      "Files already downloaded and verified\n",
      "----  130000 0.33000000000000007 42900 8250\n"
     ]
    },
    {
     "name": "stderr",
     "output_type": "stream",
     "text": [
      "/tmp/ipykernel_754969/167602683.py:30: DeprecationWarning: torchhd.hard_quantize is deprecated, consider using torchhd.normalize instead.\n",
      "  return torchhd.hard_quantize(sample_hv)\n"
     ]
    },
    {
     "name": "stdout",
     "output_type": "stream",
     "text": [
      "accFaulty  0.26427197456359863\n",
      "faultyECC num tensor(0), faultyclass num tensor(42900), Number of replaced columns: 4998, 2\n",
      "accWithCorrectionfaultfreeECC  0.26363053917884827\n",
      "faultyECC num tensor(8250), faultyclass num tensor(42900), Number of replaced columns: 5000, 0\n",
      "accWithCorrection  0.26427197456359863\n",
      "./models/isolet/BaseLevelEncoder/quantize_1_10000.pt ./models/isolet/BaseLevelEncoder/enc_quantize_1_10000.pt\n",
      "Files already downloaded and verified\n",
      "----  260000 0 0 0\n"
     ]
    },
    {
     "name": "stderr",
     "output_type": "stream",
     "text": [
      "/tmp/ipykernel_754969/167602683.py:30: DeprecationWarning: torchhd.hard_quantize is deprecated, consider using torchhd.normalize instead.\n",
      "  return torchhd.hard_quantize(sample_hv)\n"
     ]
    },
    {
     "name": "stdout",
     "output_type": "stream",
     "text": [
      "accFaulty  0.8242462873458862\n",
      "faultyECC num tensor(0), faultyclass num tensor(0), Number of replaced columns: 0, 10000\n",
      "accWithCorrectionfaultfreeECC  0.8242462873458862\n",
      "faultyECC num tensor(0), faultyclass num tensor(0), Number of replaced columns: 0, 10000\n",
      "accWithCorrection  0.8242462873458862\n",
      "./models/isolet/BaseLevelEncoder/quantize_1_10000.pt ./models/isolet/BaseLevelEncoder/enc_quantize_1_10000.pt\n",
      "Files already downloaded and verified\n",
      "----  260000 0.03 7800 1500\n"
     ]
    },
    {
     "name": "stderr",
     "output_type": "stream",
     "text": [
      "/tmp/ipykernel_754969/167602683.py:30: DeprecationWarning: torchhd.hard_quantize is deprecated, consider using torchhd.normalize instead.\n",
      "  return torchhd.hard_quantize(sample_hv)\n"
     ]
    },
    {
     "name": "stdout",
     "output_type": "stream",
     "text": [
      "accFaulty  0.7998716831207275\n",
      "faultyECC num tensor(0), faultyclass num tensor(7800), Number of replaced columns: 1823, 8177\n",
      "accWithCorrectionfaultfreeECC  0.8159076571464539\n",
      "faultyECC num tensor(1500), faultyclass num tensor(7800), Number of replaced columns: 2373, 7627\n",
      "accWithCorrection  0.8127004504203796\n",
      "./models/isolet/BaseLevelEncoder/quantize_1_10000.pt ./models/isolet/BaseLevelEncoder/enc_quantize_1_10000.pt\n",
      "Files already downloaded and verified\n",
      "----  260000 0.06 15600 3000\n"
     ]
    },
    {
     "name": "stderr",
     "output_type": "stream",
     "text": [
      "/tmp/ipykernel_754969/167602683.py:30: DeprecationWarning: torchhd.hard_quantize is deprecated, consider using torchhd.normalize instead.\n",
      "  return torchhd.hard_quantize(sample_hv)\n"
     ]
    },
    {
     "name": "stdout",
     "output_type": "stream",
     "text": [
      "accFaulty  0.7761385440826416\n",
      "faultyECC num tensor(0), faultyclass num tensor(15600), Number of replaced columns: 4687, 5313\n",
      "accWithCorrectionfaultfreeECC  0.801154613494873\n",
      "faultyECC num tensor(3000), faultyclass num tensor(15600), Number of replaced columns: 5630, 4370\n",
      "accWithCorrection  0.7979474067687988\n",
      "./models/isolet/BaseLevelEncoder/quantize_1_10000.pt ./models/isolet/BaseLevelEncoder/enc_quantize_1_10000.pt\n",
      "Files already downloaded and verified\n",
      "----  260000 0.09 23400 4500\n"
     ]
    },
    {
     "name": "stderr",
     "output_type": "stream",
     "text": [
      "/tmp/ipykernel_754969/167602683.py:30: DeprecationWarning: torchhd.hard_quantize is deprecated, consider using torchhd.normalize instead.\n",
      "  return torchhd.hard_quantize(sample_hv)\n"
     ]
    },
    {
     "name": "stdout",
     "output_type": "stream",
     "text": [
      "accFaulty  0.7671584486961365\n",
      "faultyECC num tensor(0), faultyclass num tensor(23400), Number of replaced columns: 6927, 3073\n",
      "accWithCorrectionfaultfreeECC  0.7761385440826416\n",
      "faultyECC num tensor(4500), faultyclass num tensor(23400), Number of replaced columns: 7821, 2179\n",
      "accWithCorrection  0.7722899317741394\n",
      "./models/isolet/BaseLevelEncoder/quantize_1_10000.pt ./models/isolet/BaseLevelEncoder/enc_quantize_1_10000.pt\n",
      "Files already downloaded and verified\n",
      "----  260000 0.12 31200 6000\n"
     ]
    },
    {
     "name": "stderr",
     "output_type": "stream",
     "text": [
      "/tmp/ipykernel_754969/167602683.py:30: DeprecationWarning: torchhd.hard_quantize is deprecated, consider using torchhd.normalize instead.\n",
      "  return torchhd.hard_quantize(sample_hv)\n"
     ]
    },
    {
     "name": "stdout",
     "output_type": "stream",
     "text": [
      "accFaulty  0.6927517652511597\n",
      "faultyECC num tensor(0), faultyclass num tensor(31200), Number of replaced columns: 8367, 1633\n",
      "accWithCorrectionfaultfreeECC  0.7017318606376648\n",
      "faultyECC num tensor(6000), faultyclass num tensor(31200), Number of replaced columns: 9052, 948\n",
      "accWithCorrection  0.6921103000640869\n",
      "./models/isolet/BaseLevelEncoder/quantize_1_10000.pt ./models/isolet/BaseLevelEncoder/enc_quantize_1_10000.pt\n",
      "Files already downloaded and verified\n",
      "----  260000 0.15 39000 7500\n"
     ]
    },
    {
     "name": "stderr",
     "output_type": "stream",
     "text": [
      "/tmp/ipykernel_754969/167602683.py:30: DeprecationWarning: torchhd.hard_quantize is deprecated, consider using torchhd.normalize instead.\n",
      "  return torchhd.hard_quantize(sample_hv)\n"
     ]
    },
    {
     "name": "stdout",
     "output_type": "stream",
     "text": [
      "accFaulty  0.7036561965942383\n",
      "faultyECC num tensor(0), faultyclass num tensor(39000), Number of replaced columns: 9203, 797\n",
      "accWithCorrectionfaultfreeECC  0.7036561965942383\n",
      "faultyECC num tensor(7500), faultyclass num tensor(39000), Number of replaced columns: 9593, 407\n",
      "accWithCorrection  0.7126362919807434\n",
      "./models/isolet/BaseLevelEncoder/quantize_1_10000.pt ./models/isolet/BaseLevelEncoder/enc_quantize_1_10000.pt\n",
      "Files already downloaded and verified\n",
      "----  260000 0.18 46800 9000\n"
     ]
    },
    {
     "name": "stderr",
     "output_type": "stream",
     "text": [
      "/tmp/ipykernel_754969/167602683.py:30: DeprecationWarning: torchhd.hard_quantize is deprecated, consider using torchhd.normalize instead.\n",
      "  return torchhd.hard_quantize(sample_hv)\n"
     ]
    },
    {
     "name": "stdout",
     "output_type": "stream",
     "text": [
      "accFaulty  0.7068634033203125\n",
      "faultyECC num tensor(0), faultyclass num tensor(46800), Number of replaced columns: 9620, 380\n",
      "accWithCorrectionfaultfreeECC  0.7017318606376648\n",
      "faultyECC num tensor(9000), faultyclass num tensor(46800), Number of replaced columns: 9845, 155\n",
      "accWithCorrection  0.7062219381332397\n",
      "./models/isolet/BaseLevelEncoder/quantize_1_10000.pt ./models/isolet/BaseLevelEncoder/enc_quantize_1_10000.pt\n",
      "Files already downloaded and verified\n",
      "----  260000 0.21 54600 10500\n"
     ]
    },
    {
     "name": "stderr",
     "output_type": "stream",
     "text": [
      "/tmp/ipykernel_754969/167602683.py:30: DeprecationWarning: torchhd.hard_quantize is deprecated, consider using torchhd.normalize instead.\n",
      "  return torchhd.hard_quantize(sample_hv)\n"
     ]
    },
    {
     "name": "stdout",
     "output_type": "stream",
     "text": [
      "accFaulty  0.6407954096794128\n",
      "faultyECC num tensor(0), faultyclass num tensor(54600), Number of replaced columns: 9833, 167\n",
      "accWithCorrectionfaultfreeECC  0.6440025568008423\n",
      "faultyECC num tensor(10500), faultyclass num tensor(54600), Number of replaced columns: 9946, 54\n",
      "accWithCorrection  0.6382296085357666\n",
      "./models/isolet/BaseLevelEncoder/quantize_1_10000.pt ./models/isolet/BaseLevelEncoder/enc_quantize_1_10000.pt\n",
      "Files already downloaded and verified\n",
      "----  260000 0.24 62400 12000\n"
     ]
    },
    {
     "name": "stderr",
     "output_type": "stream",
     "text": [
      "/tmp/ipykernel_754969/167602683.py:30: DeprecationWarning: torchhd.hard_quantize is deprecated, consider using torchhd.normalize instead.\n",
      "  return torchhd.hard_quantize(sample_hv)\n"
     ]
    },
    {
     "name": "stdout",
     "output_type": "stream",
     "text": [
      "accFaulty  0.6100063920021057\n",
      "faultyECC num tensor(0), faultyclass num tensor(62400), Number of replaced columns: 9918, 82\n",
      "accWithCorrectionfaultfreeECC  0.6055163741111755\n",
      "faultyECC num tensor(12000), faultyclass num tensor(62400), Number of replaced columns: 9981, 19\n",
      "accWithCorrection  0.6093649864196777\n",
      "./models/isolet/BaseLevelEncoder/quantize_1_10000.pt ./models/isolet/BaseLevelEncoder/enc_quantize_1_10000.pt\n",
      "Files already downloaded and verified\n",
      "----  260000 0.27 70200 13500\n"
     ]
    },
    {
     "name": "stderr",
     "output_type": "stream",
     "text": [
      "/tmp/ipykernel_754969/167602683.py:30: DeprecationWarning: torchhd.hard_quantize is deprecated, consider using torchhd.normalize instead.\n",
      "  return torchhd.hard_quantize(sample_hv)\n"
     ]
    },
    {
     "name": "stdout",
     "output_type": "stream",
     "text": [
      "accFaulty  0.6042335033416748\n",
      "faultyECC num tensor(0), faultyclass num tensor(70200), Number of replaced columns: 9968, 32\n",
      "accWithCorrectionfaultfreeECC  0.603592038154602\n",
      "faultyECC num tensor(13500), faultyclass num tensor(70200), Number of replaced columns: 9989, 11\n",
      "accWithCorrection  0.603592038154602\n",
      "./models/isolet/BaseLevelEncoder/quantize_1_10000.pt ./models/isolet/BaseLevelEncoder/enc_quantize_1_10000.pt\n",
      "Files already downloaded and verified\n",
      "----  260000 0.30000000000000004 78000 15000\n"
     ]
    },
    {
     "name": "stderr",
     "output_type": "stream",
     "text": [
      "/tmp/ipykernel_754969/167602683.py:30: DeprecationWarning: torchhd.hard_quantize is deprecated, consider using torchhd.normalize instead.\n",
      "  return torchhd.hard_quantize(sample_hv)\n"
     ]
    },
    {
     "name": "stdout",
     "output_type": "stream",
     "text": [
      "accFaulty  0.5125080347061157\n",
      "faultyECC num tensor(0), faultyclass num tensor(78000), Number of replaced columns: 9989, 11\n",
      "accWithCorrectionfaultfreeECC  0.5144323110580444\n",
      "faultyECC num tensor(15000), faultyclass num tensor(78000), Number of replaced columns: 9999, 1\n",
      "accWithCorrection  0.5131494402885437\n",
      "./models/isolet/BaseLevelEncoder/quantize_1_10000.pt ./models/isolet/BaseLevelEncoder/enc_quantize_1_10000.pt\n",
      "Files already downloaded and verified\n",
      "----  260000 0.33000000000000007 85800 16500\n"
     ]
    },
    {
     "name": "stderr",
     "output_type": "stream",
     "text": [
      "/tmp/ipykernel_754969/167602683.py:30: DeprecationWarning: torchhd.hard_quantize is deprecated, consider using torchhd.normalize instead.\n",
      "  return torchhd.hard_quantize(sample_hv)\n"
     ]
    },
    {
     "name": "stdout",
     "output_type": "stream",
     "text": [
      "accFaulty  0.4361770451068878\n",
      "faultyECC num tensor(0), faultyclass num tensor(85800), Number of replaced columns: 9997, 3\n",
      "accWithCorrectionfaultfreeECC  0.4361770451068878\n",
      "faultyECC num tensor(16500), faultyclass num tensor(85800), Number of replaced columns: 10000, 0\n",
      "accWithCorrection  0.4361770451068878\n",
      "./models/mnist/BaseLevelEncoder/quantize_1_5000.pt ./models/mnist/BaseLevelEncoder/enc_quantize_1_5000.pt\n",
      "----  50000 0 0 0\n",
      "accFaulty  0.7857999801635742\n",
      "faultyECC num tensor(0), faultyclass num tensor(0), Number of replaced columns: 0, 5000\n",
      "accWithCorrectionfaultfreeECC  0.7857999801635742\n",
      "faultyECC num tensor(0), faultyclass num tensor(0), Number of replaced columns: 0, 5000\n",
      "accWithCorrection  0.7857999801635742\n",
      "./models/mnist/BaseLevelEncoder/quantize_1_5000.pt ./models/mnist/BaseLevelEncoder/enc_quantize_1_5000.pt\n",
      "----  50000 0.03 1500 750\n",
      "accFaulty  0.7580999732017517\n",
      "faultyECC num tensor(0), faultyclass num tensor(1500), Number of replaced columns: 161, 4839\n",
      "accWithCorrectionfaultfreeECC  0.7803999781608582\n",
      "faultyECC num tensor(750), faultyclass num tensor(1500), Number of replaced columns: 351, 4649\n",
      "accWithCorrection  0.7815999984741211\n",
      "./models/mnist/BaseLevelEncoder/quantize_1_5000.pt ./models/mnist/BaseLevelEncoder/enc_quantize_1_5000.pt\n",
      "----  50000 0.06 3000 1500\n",
      "accFaulty  0.7368999719619751\n",
      "faultyECC num tensor(0), faultyclass num tensor(3000), Number of replaced columns: 579, 4421\n",
      "accWithCorrectionfaultfreeECC  0.7756999731063843\n",
      "faultyECC num tensor(1500), faultyclass num tensor(3000), Number of replaced columns: 1120, 3880\n",
      "accWithCorrection  0.7616000175476074\n",
      "./models/mnist/BaseLevelEncoder/quantize_1_5000.pt ./models/mnist/BaseLevelEncoder/enc_quantize_1_5000.pt\n",
      "----  50000 0.09 4500 2250\n",
      "accFaulty  0.6891000270843506\n",
      "faultyECC num tensor(0), faultyclass num tensor(4500), Number of replaced columns: 1093, 3907\n",
      "accWithCorrectionfaultfreeECC  0.7325999736785889\n",
      "faultyECC num tensor(2250), faultyclass num tensor(4500), Number of replaced columns: 1950, 3050\n",
      "accWithCorrection  0.7279000282287598\n",
      "./models/mnist/BaseLevelEncoder/quantize_1_5000.pt ./models/mnist/BaseLevelEncoder/enc_quantize_1_5000.pt\n",
      "----  50000 0.12 6000 3000\n",
      "accFaulty  0.6488000154495239\n",
      "faultyECC num tensor(0), faultyclass num tensor(6000), Number of replaced columns: 1729, 3271\n",
      "accWithCorrectionfaultfreeECC  0.6344000101089478\n",
      "faultyECC num tensor(3000), faultyclass num tensor(6000), Number of replaced columns: 2747, 2253\n",
      "accWithCorrection  0.6359000205993652\n",
      "./models/mnist/BaseLevelEncoder/quantize_1_5000.pt ./models/mnist/BaseLevelEncoder/enc_quantize_1_5000.pt\n",
      "----  50000 0.15 7500 3750\n",
      "accFaulty  0.6861000061035156\n",
      "faultyECC num tensor(0), faultyclass num tensor(7500), Number of replaced columns: 2301, 2699\n",
      "accWithCorrectionfaultfreeECC  0.7287999987602234\n",
      "faultyECC num tensor(3750), faultyclass num tensor(7500), Number of replaced columns: 3411, 1589\n",
      "accWithCorrection  0.6960999965667725\n",
      "./models/mnist/BaseLevelEncoder/quantize_1_5000.pt ./models/mnist/BaseLevelEncoder/enc_quantize_1_5000.pt\n",
      "----  50000 0.18 9000 4500\n",
      "accFaulty  0.6473000049591064\n",
      "faultyECC num tensor(0), faultyclass num tensor(9000), Number of replaced columns: 2831, 2169\n",
      "accWithCorrectionfaultfreeECC  0.6521999835968018\n",
      "faultyECC num tensor(4500), faultyclass num tensor(9000), Number of replaced columns: 3930, 1070\n",
      "accWithCorrection  0.6259999871253967\n",
      "./models/mnist/BaseLevelEncoder/quantize_1_5000.pt ./models/mnist/BaseLevelEncoder/enc_quantize_1_5000.pt\n",
      "----  50000 0.21 10500 5250\n",
      "accFaulty  0.43540000915527344\n",
      "faultyECC num tensor(0), faultyclass num tensor(10500), Number of replaced columns: 3296, 1704\n",
      "accWithCorrectionfaultfreeECC  0.5052000284194946\n",
      "faultyECC num tensor(5250), faultyclass num tensor(10500), Number of replaced columns: 4274, 726\n",
      "accWithCorrection  0.48829999566078186\n",
      "./models/mnist/BaseLevelEncoder/quantize_1_5000.pt ./models/mnist/BaseLevelEncoder/enc_quantize_1_5000.pt\n",
      "----  50000 0.24 12000 6000\n",
      "accFaulty  0.44589999318122864\n",
      "faultyECC num tensor(0), faultyclass num tensor(12000), Number of replaced columns: 3638, 1362\n",
      "accWithCorrectionfaultfreeECC  0.4821999967098236\n",
      "faultyECC num tensor(6000), faultyclass num tensor(12000), Number of replaced columns: 4548, 452\n",
      "accWithCorrection  0.46459999680519104\n",
      "./models/mnist/BaseLevelEncoder/quantize_1_5000.pt ./models/mnist/BaseLevelEncoder/enc_quantize_1_5000.pt\n",
      "----  50000 0.27 13500 6750\n",
      "accFaulty  0.3343999981880188\n",
      "faultyECC num tensor(0), faultyclass num tensor(13500), Number of replaced columns: 3963, 1037\n",
      "accWithCorrectionfaultfreeECC  0.39570000767707825\n",
      "faultyECC num tensor(6750), faultyclass num tensor(13500), Number of replaced columns: 4687, 313\n",
      "accWithCorrection  0.3522000014781952\n",
      "./models/mnist/BaseLevelEncoder/quantize_1_5000.pt ./models/mnist/BaseLevelEncoder/enc_quantize_1_5000.pt\n",
      "----  50000 0.30000000000000004 15000 7500\n",
      "accFaulty  0.5059000253677368\n",
      "faultyECC num tensor(0), faultyclass num tensor(15000), Number of replaced columns: 4211, 789\n",
      "accWithCorrectionfaultfreeECC  0.5511999726295471\n",
      "faultyECC num tensor(7500), faultyclass num tensor(15000), Number of replaced columns: 4823, 177\n",
      "accWithCorrection  0.5224000215530396\n",
      "./models/mnist/BaseLevelEncoder/quantize_1_5000.pt ./models/mnist/BaseLevelEncoder/enc_quantize_1_5000.pt\n",
      "----  50000 0.33000000000000007 16500 8250\n",
      "accFaulty  0.3224000036716461\n",
      "faultyECC num tensor(0), faultyclass num tensor(16500), Number of replaced columns: 4461, 539\n",
      "accWithCorrectionfaultfreeECC  0.32010000944137573\n",
      "faultyECC num tensor(8250), faultyclass num tensor(16500), Number of replaced columns: 4886, 114\n",
      "accWithCorrection  0.32989999651908875\n",
      "./models/mnist/BaseLevelEncoder/quantize_1_10000.pt ./models/mnist/BaseLevelEncoder/enc_quantize_1_10000.pt\n",
      "----  100000 0 0 0\n",
      "accFaulty  0.8064000010490417\n",
      "faultyECC num tensor(0), faultyclass num tensor(0), Number of replaced columns: 0, 10000\n",
      "accWithCorrectionfaultfreeECC  0.8064000010490417\n",
      "faultyECC num tensor(0), faultyclass num tensor(0), Number of replaced columns: 0, 10000\n",
      "accWithCorrection  0.8064000010490417\n",
      "./models/mnist/BaseLevelEncoder/quantize_1_10000.pt ./models/mnist/BaseLevelEncoder/enc_quantize_1_10000.pt\n",
      "----  100000 0.03 3000 1500\n",
      "accFaulty  0.7847999930381775\n",
      "faultyECC num tensor(0), faultyclass num tensor(3000), Number of replaced columns: 362, 9638\n",
      "accWithCorrectionfaultfreeECC  0.8037999868392944\n",
      "faultyECC num tensor(1500), faultyclass num tensor(3000), Number of replaced columns: 720, 9280\n",
      "accWithCorrection  0.8004000186920166\n",
      "./models/mnist/BaseLevelEncoder/quantize_1_10000.pt ./models/mnist/BaseLevelEncoder/enc_quantize_1_10000.pt\n",
      "----  100000 0.06 6000 3000\n",
      "accFaulty  0.7621999979019165\n",
      "faultyECC num tensor(0), faultyclass num tensor(6000), Number of replaced columns: 1153, 8847\n",
      "accWithCorrectionfaultfreeECC  0.7774999737739563\n",
      "faultyECC num tensor(3000), faultyclass num tensor(6000), Number of replaced columns: 2246, 7754\n",
      "accWithCorrection  0.766700029373169\n",
      "./models/mnist/BaseLevelEncoder/quantize_1_10000.pt ./models/mnist/BaseLevelEncoder/enc_quantize_1_10000.pt\n",
      "----  100000 0.09 9000 4500\n",
      "accFaulty  0.7310000061988831\n",
      "faultyECC num tensor(0), faultyclass num tensor(9000), Number of replaced columns: 2250, 7750\n",
      "accWithCorrectionfaultfreeECC  0.766700029373169\n",
      "faultyECC num tensor(4500), faultyclass num tensor(9000), Number of replaced columns: 3982, 6018\n",
      "accWithCorrection  0.7416999936103821\n",
      "./models/mnist/BaseLevelEncoder/quantize_1_10000.pt ./models/mnist/BaseLevelEncoder/enc_quantize_1_10000.pt\n",
      "----  100000 0.12 12000 6000\n",
      "accFaulty  0.6589999794960022\n",
      "faultyECC num tensor(0), faultyclass num tensor(12000), Number of replaced columns: 3445, 6555\n",
      "accWithCorrectionfaultfreeECC  0.7311999797821045\n",
      "faultyECC num tensor(6000), faultyclass num tensor(12000), Number of replaced columns: 5568, 4432\n",
      "accWithCorrection  0.7069000005722046\n",
      "./models/mnist/BaseLevelEncoder/quantize_1_10000.pt ./models/mnist/BaseLevelEncoder/enc_quantize_1_10000.pt\n",
      "----  100000 0.15 15000 7500\n",
      "accFaulty  0.6958000063896179\n",
      "faultyECC num tensor(0), faultyclass num tensor(15000), Number of replaced columns: 4548, 5452\n",
      "accWithCorrectionfaultfreeECC  0.6934000253677368\n",
      "faultyECC num tensor(7500), faultyclass num tensor(15000), Number of replaced columns: 6788, 3212\n",
      "accWithCorrection  0.695900022983551\n",
      "./models/mnist/BaseLevelEncoder/quantize_1_10000.pt ./models/mnist/BaseLevelEncoder/enc_quantize_1_10000.pt\n",
      "----  100000 0.18 18000 9000\n",
      "accFaulty  0.6561999917030334\n",
      "faultyECC num tensor(0), faultyclass num tensor(18000), Number of replaced columns: 5576, 4424\n",
      "accWithCorrectionfaultfreeECC  0.7397000193595886\n",
      "faultyECC num tensor(9000), faultyclass num tensor(18000), Number of replaced columns: 7824, 2176\n",
      "accWithCorrection  0.7159000039100647\n",
      "./models/mnist/BaseLevelEncoder/quantize_1_10000.pt ./models/mnist/BaseLevelEncoder/enc_quantize_1_10000.pt\n",
      "----  100000 0.21 21000 10500\n",
      "accFaulty  0.6758000254631042\n",
      "faultyECC num tensor(0), faultyclass num tensor(21000), Number of replaced columns: 6589, 3411\n",
      "accWithCorrectionfaultfreeECC  0.6996999979019165\n",
      "faultyECC num tensor(10500), faultyclass num tensor(21000), Number of replaced columns: 8593, 1407\n",
      "accWithCorrection  0.6825000047683716\n",
      "./models/mnist/BaseLevelEncoder/quantize_1_10000.pt ./models/mnist/BaseLevelEncoder/enc_quantize_1_10000.pt\n",
      "----  100000 0.24 24000 12000\n",
      "accFaulty  0.636900007724762\n",
      "faultyECC num tensor(0), faultyclass num tensor(24000), Number of replaced columns: 7351, 2649\n",
      "accWithCorrectionfaultfreeECC  0.652400016784668\n",
      "faultyECC num tensor(12000), faultyclass num tensor(24000), Number of replaced columns: 9104, 896\n",
      "accWithCorrection  0.6252999901771545\n",
      "./models/mnist/BaseLevelEncoder/quantize_1_10000.pt ./models/mnist/BaseLevelEncoder/enc_quantize_1_10000.pt\n",
      "----  100000 0.27 27000 13500\n",
      "accFaulty  0.6017000079154968\n",
      "faultyECC num tensor(0), faultyclass num tensor(27000), Number of replaced columns: 8001, 1999\n",
      "accWithCorrectionfaultfreeECC  0.6287000179290771\n",
      "faultyECC num tensor(13500), faultyclass num tensor(27000), Number of replaced columns: 9438, 562\n",
      "accWithCorrection  0.5892000198364258\n",
      "./models/mnist/BaseLevelEncoder/quantize_1_10000.pt ./models/mnist/BaseLevelEncoder/enc_quantize_1_10000.pt\n",
      "----  100000 0.30000000000000004 30000 15000\n",
      "accFaulty  0.4997999966144562\n",
      "faultyECC num tensor(0), faultyclass num tensor(30000), Number of replaced columns: 8522, 1478\n",
      "accWithCorrectionfaultfreeECC  0.5476999878883362\n",
      "faultyECC num tensor(15000), faultyclass num tensor(30000), Number of replaced columns: 9658, 342\n",
      "accWithCorrection  0.5087000131607056\n",
      "./models/mnist/BaseLevelEncoder/quantize_1_10000.pt ./models/mnist/BaseLevelEncoder/enc_quantize_1_10000.pt\n",
      "----  100000 0.33000000000000007 33000 16500\n",
      "accFaulty  0.3528999984264374\n",
      "faultyECC num tensor(0), faultyclass num tensor(33000), Number of replaced columns: 8906, 1094\n",
      "accWithCorrectionfaultfreeECC  0.3887999951839447\n",
      "faultyECC num tensor(16500), faultyclass num tensor(33000), Number of replaced columns: 9789, 211\n",
      "accWithCorrection  0.3517000079154968\n"
     ]
    },
    {
     "data": {
      "image/png": "[encoded data removed]",
      "text/plain": [
       "<Figure size 640x480 with 1 Axes>"
      ]
     },
     "metadata": {},
     "output_type": "display_data"
    }
   ],
   "source": [
    "DIMENSION = ['5000', '10000']\n",
    "encoders = [ 'BaseLevelEncoder'] # 'BaseLevelEncoder',\n",
    "datasets = ['isolet', 'mnist']\n",
    "font_size = 20\n",
    " \n",
    "for encoder in encoders:\n",
    "    for data in datasets:\n",
    "        for d in DIMENSION:\n",
    "            accuracies = []\n",
    "            if d == 'isolet':\n",
    "                correction = 2\n",
    "                ecc_bits = 10\n",
    "            else:\n",
    "                correction = 1\n",
    "                ecc_bits = 5\n",
    "            # for correction in range(1,3):\n",
    "            faults = 0\n",
    "            while faults < 0.35:\n",
    "                counterReplace = 0\n",
    "                counterExchange = 0\n",
    "                # print(faults, end=\" : \")\n",
    "                accFaulty, accWithCorrectionfaultfreeECC, accWithCorrection = get_accuracy_with_correction(d, encoder, '1',  data, faults, correction, ecc_bits)\n",
    "                faults = faults + 0.03\n",
    "                accuracies.append(faults/(int(d)*10), accFaulty, accWithCorrectionfaultfreeECC, accWithCorrection)    \n",
    "            log_run_result(accuracies, d, encoder, data)\n",
    "            plot_results(d, encoder, data)"
   ]
  },
  {
   "cell_type": "code",
   "execution_count": 5,
   "metadata": {},
   "outputs": [],
   "source": [
    "# faults in base vectors\n",
    "\n",
    "class Encoder_rand(nn.Module):\n",
    "    def __init__(self, out_features, size, levels):\n",
    "        super(Encoder_rand, self).__init__()\n",
    "        #self.flatten = torch.nn.Flatten(start_dim=-2)\n",
    "        self.project = embeddings.Sinusoid(size, out_features)\n",
    "        self.name=\"RandomProjectionEncoder\"\n",
    "    \n",
    "    def forward(self, x):\n",
    "        #x = self.flatten(x)\n",
    "        sample_hv = self.project(x)\n",
    "        #sample_hv = torchhd.multiset(sample_hv)\n",
    "        return torchhd.hard_quantize(sample_hv)\n",
    "\n",
    "###### =====================================BASE LEVEL=============================================\n",
    "\n",
    "class Encoder_base(nn.Module):\n",
    "    def __init__(self, out_features, size, levels):\n",
    "        super(Encoder_base, self).__init__()\n",
    "        #self.flatten = torch.nn.Flatten(start_dim=-2)\n",
    "        self.position = embeddings.Random(size, out_features)\n",
    "        self.value = embeddings.Level(levels, out_features)\n",
    "        self.name=\"BaseLevelEncoder\"\n",
    "\n",
    "    def forward(self, x):\n",
    "        #x = self.flatten(x)\n",
    "        sample_hv = torchhd.bind(self.position.weight, self.value(x))\n",
    "        sample_hv = torchhd.multiset(sample_hv)\n",
    "        return torchhd.hard_quantize(sample_hv)\n",
    "\n",
    "def inject_fault(input_weight, amount):\n",
    "    \"\"\"\n",
    "    Injects faults into a binary tensor (with bits == 1).\n",
    "    \n",
    "    Args:\n",
    "        input_weight (torch.Tensor): The input weight tensor to modify (binary values: -1 or +1).\n",
    "        amount (int): Number of faults to inject.\n",
    "\n",
    "    Returns:\n",
    "        torch.Tensor: Modified tensor with injected faults.\n",
    "    \"\"\"\n",
    "    rng = np.random.default_rng()\n",
    "\n",
    "    # Clone and flatten the weight data\n",
    "    weight_data = input_weight.clone()\n",
    "    rows, cols = weight_data.shape\n",
    "    flat_weights = F.relu(weight_data).type(torch.int).flatten()\n",
    "\n",
    "    # Convert -1/+1 to 0/1 (binary representation)\n",
    "    binary_weights = (flat_weights + 1) // 2\n",
    "\n",
    "    # Randomly select bit indices to flip\n",
    "    fault_indices = rng.choice(binary_weights.numel(), amount, replace=False)\n",
    "\n",
    "    # Flip the bits\n",
    "    binary_weights[fault_indices] = 1 - binary_weights[fault_indices]\n",
    "\n",
    "    # Convert back to -1/+1 representation\n",
    "    modified_weights = binary_weights * 2 - 1\n",
    "    faulty_weights = modified_weights.reshape(rows, cols)\n",
    "\n",
    "    return faulty_weights \n",
    "\n",
    "def get_accuracy_with_correction(DIMENSION, encoder, quantize, dataset, faults, correction, ecc_bits):\n",
    "    # Load encoder and weights\n",
    "    path_prefix = f\"./models/{dataset}/{encoder}/\"\n",
    "    path_to_encoder = path_prefix + f\"enc_quantize_{quantize}_{DIMENSION}.pt\"\n",
    "    path_to_weights = path_prefix + f\"quantize_{quantize}_{DIMENSION}.pt\"\n",
    "\n",
    "    print(path_to_weights, path_to_encoder)\n",
    "\n",
    "\n",
    "    weights = torch.load(path_to_weights, map_location= torch.device('cpu'))\n",
    "    encode = torch.load(path_to_encoder, map_location= torch.device('cpu'), weights_only = False)\n",
    "    print(encode)\n",
    "\n",
    "    position_fault = int(encode.position.weight.data.numel() *faults)\n",
    "    value_fault = int(encode.value.weight.data.numel() *faults)\n",
    "    encode.position.weight.data =  inject_fault(encode.position.weight.data, position_fault)\n",
    "    # print(encode.position.weight.data[:1], encode.value.weight.data[:1])\n",
    "    encode.value.weight.data =  inject_fault(encode.value.weight.data, value_fault)\n",
    "    num_classes = weights.shape[0]\n",
    "    model = Centroid(int(DIMENSION), num_classes)\n",
    "    model.weight.data = weights\n",
    "    normalECC = torch.ones(ecc_bits, int(DIMENSION))\n",
    "    # print(weights[:,605])\n",
    "    # Dataset setup\n",
    "    transform = torchvision.transforms.ToTensor()\n",
    "    if dataset == \"mnist\":\n",
    "        test_ds = MNIST(\"./data\", train=False, transform=transform, download=True)\n",
    "    elif dataset == \"isolet\":\n",
    "        test_ds = ISOLET(\"./data\", train=False, download=True)\n",
    "    test_ld = torch.utils.data.DataLoader(test_ds, batch_size=BATCH_SIZE, shuffle=False)\n",
    "\n",
    "    \n",
    "    # Accuracy on faulty weights\n",
    "    accuracy = torchmetrics.Accuracy(\"multiclass\", num_classes=num_classes)\n",
    "    accuracy.reset()\n",
    "    for samples, labels in tqdm(test_ld, desc=\"Testing Faulty\", disable=True):\n",
    "        samples = samples.flatten(start_dim=-2)\n",
    "        samples_hv = encode(samples)\n",
    "        outputs = model(samples_hv, dot=True)\n",
    "        accuracy.update(torch.argmax(outputs.cpu(),dim=-1).flatten(), labels)\n",
    "    accFaulty = accuracy.compute().item()\n",
    "    print(\"accFaulty \", accFaulty)\n",
    "\n",
    "    return accFaulty\n",
    "\n",
    "\n",
    "def log_run_result(faults, accFaulty, DIMENSION, encoder, dataset ):\n",
    "    file_path=f\"{DIMENSION}_{encoder}_{dataset}_accuracy_encoder_results.json\"\n",
    "    result = {\n",
    "        \"faults\": faults,\n",
    "        \"accFaulty\": accFaulty\n",
    "        \n",
    "    }\n",
    "\n",
    "    # Load existing results if the file exists\n",
    "    if os.path.exists(file_path):\n",
    "        with open(file_path, \"r\") as f:\n",
    "            data = json.load(f)\n",
    "    else:\n",
    "        data = []\n",
    "\n",
    "    data.append(result)\n",
    "\n",
    "    # Save updated list\n",
    "    with open(file_path, \"w\") as f:\n",
    "        json.dump(data, f, indent=4)\n",
    "\n",
    "\n",
    "def plot_results(DIMENSION, encoder, dataset):\n",
    "    file_path=f\"{DIMENSION}_{encoder}_{dataset}_accuracy_encoder_results.json\"\n",
    "    with open(file_path, \"r\") as f:\n",
    "        data = json.load(f)\n",
    "\n",
    "    faults = [entry[\"faults\"] for entry in data]\n",
    "    acc_faulty = [entry[\"accFaulty\"] for entry in data]\n",
    "    \n",
    "    plt.plot(faults, acc_faulty, label=\"Faulty Accuracy\")\n",
    "    plt.xlabel(\"Percentage of Faults\")\n",
    "    plt.ylabel(\"Accuracy\")\n",
    "    #plt.title(\"Accuracy vs Number of Faults\")\n",
    "    plt.legend()\n",
    "    #plt.grid(True)\n",
    "    # plt.show()\n",
    "    plt.savefig(f\"{DIMENSION}_{encoder}_{dataset}_encoder.png\")"
   ]
  },
  {
   "cell_type": "code",
   "execution_count": 6,
   "metadata": {},
   "outputs": [
    {
     "name": "stdout",
     "output_type": "stream",
     "text": [
      "5000 BaseLevelEncoder 1 isolet 0 1 5\n",
      "./models/isolet/BaseLevelEncoder/quantize_1_5000.pt ./models/isolet/BaseLevelEncoder/enc_quantize_1_5000.pt\n",
      "Encoder_base(\n",
      "  (position): Random(617, 5000)\n",
      "  (value): Level(100, 5000)\n",
      ")\n",
      "Files already downloaded and verified\n"
     ]
    },
    {
     "name": "stderr",
     "output_type": "stream",
     "text": [
      "/tmp/ipykernel_754969/775703220.py:30: DeprecationWarning: torchhd.hard_quantize is deprecated, consider using torchhd.normalize instead.\n",
      "  return torchhd.hard_quantize(sample_hv)\n"
     ]
    },
    {
     "name": "stdout",
     "output_type": "stream",
     "text": [
      "accFaulty  0.8101347088813782\n",
      "5000 BaseLevelEncoder 1 isolet 0.03 1 5\n",
      "./models/isolet/BaseLevelEncoder/quantize_1_5000.pt ./models/isolet/BaseLevelEncoder/enc_quantize_1_5000.pt\n",
      "Encoder_base(\n",
      "  (position): Random(617, 5000)\n",
      "  (value): Level(100, 5000)\n",
      ")\n",
      "Files already downloaded and verified\n"
     ]
    },
    {
     "name": "stderr",
     "output_type": "stream",
     "text": [
      "/tmp/ipykernel_754969/775703220.py:30: DeprecationWarning: torchhd.hard_quantize is deprecated, consider using torchhd.normalize instead.\n",
      "  return torchhd.hard_quantize(sample_hv)\n"
     ]
    },
    {
     "name": "stdout",
     "output_type": "stream",
     "text": [
      "accFaulty  0.8005131483078003\n",
      "5000 BaseLevelEncoder 1 isolet 0.06 1 5\n",
      "./models/isolet/BaseLevelEncoder/quantize_1_5000.pt ./models/isolet/BaseLevelEncoder/enc_quantize_1_5000.pt\n",
      "Encoder_base(\n",
      "  (position): Random(617, 5000)\n",
      "  (value): Level(100, 5000)\n",
      ")\n",
      "Files already downloaded and verified\n"
     ]
    },
    {
     "name": "stderr",
     "output_type": "stream",
     "text": [
      "/tmp/ipykernel_754969/775703220.py:30: DeprecationWarning: torchhd.hard_quantize is deprecated, consider using torchhd.normalize instead.\n",
      "  return torchhd.hard_quantize(sample_hv)\n"
     ]
    },
    {
     "name": "stdout",
     "output_type": "stream",
     "text": [
      "accFaulty  0.7742142677307129\n",
      "5000 BaseLevelEncoder 1 isolet 0.09 1 5\n",
      "./models/isolet/BaseLevelEncoder/quantize_1_5000.pt ./models/isolet/BaseLevelEncoder/enc_quantize_1_5000.pt\n",
      "Encoder_base(\n",
      "  (position): Random(617, 5000)\n",
      "  (value): Level(100, 5000)\n",
      ")\n",
      "Files already downloaded and verified\n"
     ]
    },
    {
     "name": "stderr",
     "output_type": "stream",
     "text": [
      "/tmp/ipykernel_754969/775703220.py:30: DeprecationWarning: torchhd.hard_quantize is deprecated, consider using torchhd.normalize instead.\n",
      "  return torchhd.hard_quantize(sample_hv)\n"
     ]
    },
    {
     "name": "stdout",
     "output_type": "stream",
     "text": [
      "accFaulty  0.7203335762023926\n",
      "5000 BaseLevelEncoder 1 isolet 0.12 1 5\n",
      "./models/isolet/BaseLevelEncoder/quantize_1_5000.pt ./models/isolet/BaseLevelEncoder/enc_quantize_1_5000.pt\n",
      "Encoder_base(\n",
      "  (position): Random(617, 5000)\n",
      "  (value): Level(100, 5000)\n",
      ")\n",
      "Files already downloaded and verified\n"
     ]
    },
    {
     "name": "stderr",
     "output_type": "stream",
     "text": [
      "/tmp/ipykernel_754969/775703220.py:30: DeprecationWarning: torchhd.hard_quantize is deprecated, consider using torchhd.normalize instead.\n",
      "  return torchhd.hard_quantize(sample_hv)\n"
     ]
    },
    {
     "name": "stdout",
     "output_type": "stream",
     "text": [
      "accFaulty  0.7126362919807434\n",
      "5000 BaseLevelEncoder 1 isolet 0.15 1 5\n",
      "./models/isolet/BaseLevelEncoder/quantize_1_5000.pt ./models/isolet/BaseLevelEncoder/enc_quantize_1_5000.pt\n",
      "Encoder_base(\n",
      "  (position): Random(617, 5000)\n",
      "  (value): Level(100, 5000)\n",
      ")\n",
      "Files already downloaded and verified\n"
     ]
    },
    {
     "name": "stderr",
     "output_type": "stream",
     "text": [
      "/tmp/ipykernel_754969/775703220.py:30: DeprecationWarning: torchhd.hard_quantize is deprecated, consider using torchhd.normalize instead.\n",
      "  return torchhd.hard_quantize(sample_hv)\n"
     ]
    },
    {
     "name": "stdout",
     "output_type": "stream",
     "text": [
      "accFaulty  0.6433611512184143\n",
      "5000 BaseLevelEncoder 1 isolet 0.18 1 5\n",
      "./models/isolet/BaseLevelEncoder/quantize_1_5000.pt ./models/isolet/BaseLevelEncoder/enc_quantize_1_5000.pt\n",
      "Encoder_base(\n",
      "  (position): Random(617, 5000)\n",
      "  (value): Level(100, 5000)\n",
      ")\n",
      "Files already downloaded and verified\n"
     ]
    },
    {
     "name": "stderr",
     "output_type": "stream",
     "text": [
      "/tmp/ipykernel_754969/775703220.py:30: DeprecationWarning: torchhd.hard_quantize is deprecated, consider using torchhd.normalize instead.\n",
      "  return torchhd.hard_quantize(sample_hv)\n"
     ]
    },
    {
     "name": "stdout",
     "output_type": "stream",
     "text": [
      "accFaulty  0.5445798635482788\n",
      "5000 BaseLevelEncoder 1 isolet 0.21 1 5\n",
      "./models/isolet/BaseLevelEncoder/quantize_1_5000.pt ./models/isolet/BaseLevelEncoder/enc_quantize_1_5000.pt\n",
      "Encoder_base(\n",
      "  (position): Random(617, 5000)\n",
      "  (value): Level(100, 5000)\n",
      ")\n",
      "Files already downloaded and verified\n"
     ]
    },
    {
     "name": "stderr",
     "output_type": "stream",
     "text": [
      "/tmp/ipykernel_754969/775703220.py:30: DeprecationWarning: torchhd.hard_quantize is deprecated, consider using torchhd.normalize instead.\n",
      "  return torchhd.hard_quantize(sample_hv)\n"
     ]
    },
    {
     "name": "stdout",
     "output_type": "stream",
     "text": [
      "accFaulty  0.4939063489437103\n",
      "5000 BaseLevelEncoder 1 isolet 0.24 1 5\n",
      "./models/isolet/BaseLevelEncoder/quantize_1_5000.pt ./models/isolet/BaseLevelEncoder/enc_quantize_1_5000.pt\n",
      "Encoder_base(\n",
      "  (position): Random(617, 5000)\n",
      "  (value): Level(100, 5000)\n",
      ")\n",
      "Files already downloaded and verified\n"
     ]
    },
    {
     "name": "stderr",
     "output_type": "stream",
     "text": [
      "/tmp/ipykernel_754969/775703220.py:30: DeprecationWarning: torchhd.hard_quantize is deprecated, consider using torchhd.normalize instead.\n",
      "  return torchhd.hard_quantize(sample_hv)\n"
     ]
    },
    {
     "name": "stdout",
     "output_type": "stream",
     "text": [
      "accFaulty  0.4457985758781433\n",
      "5000 BaseLevelEncoder 1 isolet 0.27 1 5\n",
      "./models/isolet/BaseLevelEncoder/quantize_1_5000.pt ./models/isolet/BaseLevelEncoder/enc_quantize_1_5000.pt\n",
      "Encoder_base(\n",
      "  (position): Random(617, 5000)\n",
      "  (value): Level(100, 5000)\n",
      ")\n",
      "Files already downloaded and verified\n"
     ]
    },
    {
     "name": "stderr",
     "output_type": "stream",
     "text": [
      "/tmp/ipykernel_754969/775703220.py:30: DeprecationWarning: torchhd.hard_quantize is deprecated, consider using torchhd.normalize instead.\n",
      "  return torchhd.hard_quantize(sample_hv)\n"
     ]
    },
    {
     "name": "stdout",
     "output_type": "stream",
     "text": [
      "accFaulty  0.3264913260936737\n",
      "5000 BaseLevelEncoder 1 isolet 0.30000000000000004 1 5\n",
      "./models/isolet/BaseLevelEncoder/quantize_1_5000.pt ./models/isolet/BaseLevelEncoder/enc_quantize_1_5000.pt\n",
      "Encoder_base(\n",
      "  (position): Random(617, 5000)\n",
      "  (value): Level(100, 5000)\n",
      ")\n",
      "Files already downloaded and verified\n"
     ]
    },
    {
     "name": "stderr",
     "output_type": "stream",
     "text": [
      "/tmp/ipykernel_754969/775703220.py:30: DeprecationWarning: torchhd.hard_quantize is deprecated, consider using torchhd.normalize instead.\n",
      "  return torchhd.hard_quantize(sample_hv)\n"
     ]
    },
    {
     "name": "stdout",
     "output_type": "stream",
     "text": [
      "accFaulty  0.2257857620716095\n",
      "5000 BaseLevelEncoder 1 isolet 0.33000000000000007 1 5\n",
      "./models/isolet/BaseLevelEncoder/quantize_1_5000.pt ./models/isolet/BaseLevelEncoder/enc_quantize_1_5000.pt\n",
      "Encoder_base(\n",
      "  (position): Random(617, 5000)\n",
      "  (value): Level(100, 5000)\n",
      ")\n",
      "Files already downloaded and verified\n"
     ]
    },
    {
     "name": "stderr",
     "output_type": "stream",
     "text": [
      "/tmp/ipykernel_754969/775703220.py:30: DeprecationWarning: torchhd.hard_quantize is deprecated, consider using torchhd.normalize instead.\n",
      "  return torchhd.hard_quantize(sample_hv)\n"
     ]
    },
    {
     "name": "stdout",
     "output_type": "stream",
     "text": [
      "accFaulty  0.17126363515853882\n",
      "10000 BaseLevelEncoder 1 isolet 0 1 5\n",
      "./models/isolet/BaseLevelEncoder/quantize_1_10000.pt ./models/isolet/BaseLevelEncoder/enc_quantize_1_10000.pt\n",
      "Encoder_base(\n",
      "  (position): Random(617, 10000)\n",
      "  (value): Level(100, 10000)\n",
      ")\n",
      "Files already downloaded and verified\n"
     ]
    },
    {
     "name": "stderr",
     "output_type": "stream",
     "text": [
      "/tmp/ipykernel_754969/775703220.py:30: DeprecationWarning: torchhd.hard_quantize is deprecated, consider using torchhd.normalize instead.\n",
      "  return torchhd.hard_quantize(sample_hv)\n"
     ]
    },
    {
     "name": "stdout",
     "output_type": "stream",
     "text": [
      "accFaulty  0.8242462873458862\n",
      "10000 BaseLevelEncoder 1 isolet 0.03 1 5\n",
      "./models/isolet/BaseLevelEncoder/quantize_1_10000.pt ./models/isolet/BaseLevelEncoder/enc_quantize_1_10000.pt\n",
      "Encoder_base(\n",
      "  (position): Random(617, 10000)\n",
      "  (value): Level(100, 10000)\n",
      ")\n",
      "Files already downloaded and verified\n"
     ]
    },
    {
     "name": "stderr",
     "output_type": "stream",
     "text": [
      "/tmp/ipykernel_754969/775703220.py:30: DeprecationWarning: torchhd.hard_quantize is deprecated, consider using torchhd.normalize instead.\n",
      "  return torchhd.hard_quantize(sample_hv)\n"
     ]
    },
    {
     "name": "stdout",
     "output_type": "stream",
     "text": [
      "accFaulty  0.820397675037384\n",
      "10000 BaseLevelEncoder 1 isolet 0.06 1 5\n",
      "./models/isolet/BaseLevelEncoder/quantize_1_10000.pt ./models/isolet/BaseLevelEncoder/enc_quantize_1_10000.pt\n",
      "Encoder_base(\n",
      "  (position): Random(617, 10000)\n",
      "  (value): Level(100, 10000)\n",
      ")\n",
      "Files already downloaded and verified\n"
     ]
    },
    {
     "name": "stderr",
     "output_type": "stream",
     "text": [
      "/tmp/ipykernel_754969/775703220.py:30: DeprecationWarning: torchhd.hard_quantize is deprecated, consider using torchhd.normalize instead.\n",
      "  return torchhd.hard_quantize(sample_hv)\n"
     ]
    },
    {
     "name": "stdout",
     "output_type": "stream",
     "text": [
      "accFaulty  0.7921744585037231\n",
      "10000 BaseLevelEncoder 1 isolet 0.09 1 5\n",
      "./models/isolet/BaseLevelEncoder/quantize_1_10000.pt ./models/isolet/BaseLevelEncoder/enc_quantize_1_10000.pt\n",
      "Encoder_base(\n",
      "  (position): Random(617, 10000)\n",
      "  (value): Level(100, 10000)\n",
      ")\n",
      "Files already downloaded and verified\n"
     ]
    },
    {
     "name": "stderr",
     "output_type": "stream",
     "text": [
      "/tmp/ipykernel_754969/775703220.py:30: DeprecationWarning: torchhd.hard_quantize is deprecated, consider using torchhd.normalize instead.\n",
      "  return torchhd.hard_quantize(sample_hv)\n"
     ]
    },
    {
     "name": "stdout",
     "output_type": "stream",
     "text": [
      "accFaulty  0.787684440612793\n",
      "10000 BaseLevelEncoder 1 isolet 0.12 1 5\n",
      "./models/isolet/BaseLevelEncoder/quantize_1_10000.pt ./models/isolet/BaseLevelEncoder/enc_quantize_1_10000.pt\n",
      "Encoder_base(\n",
      "  (position): Random(617, 10000)\n",
      "  (value): Level(100, 10000)\n",
      ")\n",
      "Files already downloaded and verified\n"
     ]
    },
    {
     "name": "stderr",
     "output_type": "stream",
     "text": [
      "/tmp/ipykernel_754969/775703220.py:30: DeprecationWarning: torchhd.hard_quantize is deprecated, consider using torchhd.normalize instead.\n",
      "  return torchhd.hard_quantize(sample_hv)\n"
     ]
    },
    {
     "name": "stdout",
     "output_type": "stream",
     "text": [
      "accFaulty  0.742142379283905\n",
      "10000 BaseLevelEncoder 1 isolet 0.15 1 5\n",
      "./models/isolet/BaseLevelEncoder/quantize_1_10000.pt ./models/isolet/BaseLevelEncoder/enc_quantize_1_10000.pt\n",
      "Encoder_base(\n",
      "  (position): Random(617, 10000)\n",
      "  (value): Level(100, 10000)\n",
      ")\n",
      "Files already downloaded and verified\n"
     ]
    },
    {
     "name": "stderr",
     "output_type": "stream",
     "text": [
      "/tmp/ipykernel_754969/775703220.py:30: DeprecationWarning: torchhd.hard_quantize is deprecated, consider using torchhd.normalize instead.\n",
      "  return torchhd.hard_quantize(sample_hv)\n"
     ]
    },
    {
     "name": "stdout",
     "output_type": "stream",
     "text": [
      "accFaulty  0.7177677750587463\n",
      "10000 BaseLevelEncoder 1 isolet 0.18 1 5\n",
      "./models/isolet/BaseLevelEncoder/quantize_1_10000.pt ./models/isolet/BaseLevelEncoder/enc_quantize_1_10000.pt\n",
      "Encoder_base(\n",
      "  (position): Random(617, 10000)\n",
      "  (value): Level(100, 10000)\n",
      ")\n",
      "Files already downloaded and verified\n"
     ]
    },
    {
     "name": "stderr",
     "output_type": "stream",
     "text": [
      "/tmp/ipykernel_754969/775703220.py:30: DeprecationWarning: torchhd.hard_quantize is deprecated, consider using torchhd.normalize instead.\n",
      "  return torchhd.hard_quantize(sample_hv)\n"
     ]
    },
    {
     "name": "stdout",
     "output_type": "stream",
     "text": [
      "accFaulty  0.6812059283256531\n",
      "10000 BaseLevelEncoder 1 isolet 0.21 1 5\n",
      "./models/isolet/BaseLevelEncoder/quantize_1_10000.pt ./models/isolet/BaseLevelEncoder/enc_quantize_1_10000.pt\n",
      "Encoder_base(\n",
      "  (position): Random(617, 10000)\n",
      "  (value): Level(100, 10000)\n",
      ")\n",
      "Files already downloaded and verified\n"
     ]
    },
    {
     "name": "stderr",
     "output_type": "stream",
     "text": [
      "/tmp/ipykernel_754969/775703220.py:30: DeprecationWarning: torchhd.hard_quantize is deprecated, consider using torchhd.normalize instead.\n",
      "  return torchhd.hard_quantize(sample_hv)\n"
     ]
    },
    {
     "name": "stdout",
     "output_type": "stream",
     "text": [
      "accFaulty  0.6221936941146851\n",
      "10000 BaseLevelEncoder 1 isolet 0.24 1 5\n",
      "./models/isolet/BaseLevelEncoder/quantize_1_10000.pt ./models/isolet/BaseLevelEncoder/enc_quantize_1_10000.pt\n",
      "Encoder_base(\n",
      "  (position): Random(617, 10000)\n",
      "  (value): Level(100, 10000)\n",
      ")\n",
      "Files already downloaded and verified\n"
     ]
    },
    {
     "name": "stderr",
     "output_type": "stream",
     "text": [
      "/tmp/ipykernel_754969/775703220.py:30: DeprecationWarning: torchhd.hard_quantize is deprecated, consider using torchhd.normalize instead.\n",
      "  return torchhd.hard_quantize(sample_hv)\n"
     ]
    },
    {
     "name": "stdout",
     "output_type": "stream",
     "text": [
      "accFaulty  0.5169980525970459\n",
      "10000 BaseLevelEncoder 1 isolet 0.27 1 5\n",
      "./models/isolet/BaseLevelEncoder/quantize_1_10000.pt ./models/isolet/BaseLevelEncoder/enc_quantize_1_10000.pt\n",
      "Encoder_base(\n",
      "  (position): Random(617, 10000)\n",
      "  (value): Level(100, 10000)\n",
      ")\n",
      "Files already downloaded and verified\n"
     ]
    },
    {
     "name": "stderr",
     "output_type": "stream",
     "text": [
      "/tmp/ipykernel_754969/775703220.py:30: DeprecationWarning: torchhd.hard_quantize is deprecated, consider using torchhd.normalize instead.\n",
      "  return torchhd.hard_quantize(sample_hv)\n"
     ]
    },
    {
     "name": "stdout",
     "output_type": "stream",
     "text": [
      "accFaulty  0.37588196992874146\n",
      "10000 BaseLevelEncoder 1 isolet 0.30000000000000004 1 5\n",
      "./models/isolet/BaseLevelEncoder/quantize_1_10000.pt ./models/isolet/BaseLevelEncoder/enc_quantize_1_10000.pt\n",
      "Encoder_base(\n",
      "  (position): Random(617, 10000)\n",
      "  (value): Level(100, 10000)\n",
      ")\n",
      "Files already downloaded and verified\n"
     ]
    },
    {
     "name": "stderr",
     "output_type": "stream",
     "text": [
      "/tmp/ipykernel_754969/775703220.py:30: DeprecationWarning: torchhd.hard_quantize is deprecated, consider using torchhd.normalize instead.\n",
      "  return torchhd.hard_quantize(sample_hv)\n"
     ]
    },
    {
     "name": "stdout",
     "output_type": "stream",
     "text": [
      "accFaulty  0.37331622838974\n",
      "10000 BaseLevelEncoder 1 isolet 0.33000000000000007 1 5\n",
      "./models/isolet/BaseLevelEncoder/quantize_1_10000.pt ./models/isolet/BaseLevelEncoder/enc_quantize_1_10000.pt\n",
      "Encoder_base(\n",
      "  (position): Random(617, 10000)\n",
      "  (value): Level(100, 10000)\n",
      ")\n",
      "Files already downloaded and verified\n"
     ]
    },
    {
     "name": "stderr",
     "output_type": "stream",
     "text": [
      "/tmp/ipykernel_754969/775703220.py:30: DeprecationWarning: torchhd.hard_quantize is deprecated, consider using torchhd.normalize instead.\n",
      "  return torchhd.hard_quantize(sample_hv)\n"
     ]
    },
    {
     "name": "stdout",
     "output_type": "stream",
     "text": [
      "accFaulty  0.2745349705219269\n",
      "5000 BaseLevelEncoder 1 mnist 0 1 5\n",
      "./models/mnist/BaseLevelEncoder/quantize_1_5000.pt ./models/mnist/BaseLevelEncoder/enc_quantize_1_5000.pt\n",
      "Encoder_base(\n",
      "  (position): Random(784, 5000)\n",
      "  (value): Level(256, 5000)\n",
      ")\n",
      "accFaulty  0.7857999801635742\n",
      "5000 BaseLevelEncoder 1 mnist 0.03 1 5\n",
      "./models/mnist/BaseLevelEncoder/quantize_1_5000.pt ./models/mnist/BaseLevelEncoder/enc_quantize_1_5000.pt\n",
      "Encoder_base(\n",
      "  (position): Random(784, 5000)\n",
      "  (value): Level(256, 5000)\n",
      ")\n",
      "accFaulty  0.7710000276565552\n",
      "5000 BaseLevelEncoder 1 mnist 0.06 1 5\n",
      "./models/mnist/BaseLevelEncoder/quantize_1_5000.pt ./models/mnist/BaseLevelEncoder/enc_quantize_1_5000.pt\n",
      "Encoder_base(\n",
      "  (position): Random(784, 5000)\n",
      "  (value): Level(256, 5000)\n",
      ")\n",
      "accFaulty  0.754800021648407\n",
      "5000 BaseLevelEncoder 1 mnist 0.09 1 5\n",
      "./models/mnist/BaseLevelEncoder/quantize_1_5000.pt ./models/mnist/BaseLevelEncoder/enc_quantize_1_5000.pt\n",
      "Encoder_base(\n",
      "  (position): Random(784, 5000)\n",
      "  (value): Level(256, 5000)\n",
      ")\n",
      "accFaulty  0.7160999774932861\n",
      "5000 BaseLevelEncoder 1 mnist 0.12 1 5\n",
      "./models/mnist/BaseLevelEncoder/quantize_1_5000.pt ./models/mnist/BaseLevelEncoder/enc_quantize_1_5000.pt\n",
      "Encoder_base(\n",
      "  (position): Random(784, 5000)\n",
      "  (value): Level(256, 5000)\n",
      ")\n",
      "accFaulty  0.7092999815940857\n",
      "5000 BaseLevelEncoder 1 mnist 0.15 1 5\n",
      "./models/mnist/BaseLevelEncoder/quantize_1_5000.pt ./models/mnist/BaseLevelEncoder/enc_quantize_1_5000.pt\n",
      "Encoder_base(\n",
      "  (position): Random(784, 5000)\n",
      "  (value): Level(256, 5000)\n",
      ")\n",
      "accFaulty  0.5911999940872192\n",
      "5000 BaseLevelEncoder 1 mnist 0.18 1 5\n",
      "./models/mnist/BaseLevelEncoder/quantize_1_5000.pt ./models/mnist/BaseLevelEncoder/enc_quantize_1_5000.pt\n",
      "Encoder_base(\n",
      "  (position): Random(784, 5000)\n",
      "  (value): Level(256, 5000)\n",
      ")\n",
      "accFaulty  0.5184999704360962\n",
      "5000 BaseLevelEncoder 1 mnist 0.21 1 5\n",
      "./models/mnist/BaseLevelEncoder/quantize_1_5000.pt ./models/mnist/BaseLevelEncoder/enc_quantize_1_5000.pt\n",
      "Encoder_base(\n",
      "  (position): Random(784, 5000)\n",
      "  (value): Level(256, 5000)\n",
      ")\n",
      "accFaulty  0.508400022983551\n",
      "5000 BaseLevelEncoder 1 mnist 0.24 1 5\n",
      "./models/mnist/BaseLevelEncoder/quantize_1_5000.pt ./models/mnist/BaseLevelEncoder/enc_quantize_1_5000.pt\n",
      "Encoder_base(\n",
      "  (position): Random(784, 5000)\n",
      "  (value): Level(256, 5000)\n",
      ")\n",
      "accFaulty  0.4666999876499176\n",
      "5000 BaseLevelEncoder 1 mnist 0.27 1 5\n",
      "./models/mnist/BaseLevelEncoder/quantize_1_5000.pt ./models/mnist/BaseLevelEncoder/enc_quantize_1_5000.pt\n",
      "Encoder_base(\n",
      "  (position): Random(784, 5000)\n",
      "  (value): Level(256, 5000)\n",
      ")\n",
      "accFaulty  0.2921000123023987\n",
      "5000 BaseLevelEncoder 1 mnist 0.30000000000000004 1 5\n",
      "./models/mnist/BaseLevelEncoder/quantize_1_5000.pt ./models/mnist/BaseLevelEncoder/enc_quantize_1_5000.pt\n",
      "Encoder_base(\n",
      "  (position): Random(784, 5000)\n",
      "  (value): Level(256, 5000)\n",
      ")\n",
      "accFaulty  0.2768999934196472\n",
      "5000 BaseLevelEncoder 1 mnist 0.33000000000000007 1 5\n",
      "./models/mnist/BaseLevelEncoder/quantize_1_5000.pt ./models/mnist/BaseLevelEncoder/enc_quantize_1_5000.pt\n",
      "Encoder_base(\n",
      "  (position): Random(784, 5000)\n",
      "  (value): Level(256, 5000)\n",
      ")\n",
      "accFaulty  0.19439999759197235\n",
      "10000 BaseLevelEncoder 1 mnist 0 1 5\n",
      "./models/mnist/BaseLevelEncoder/quantize_1_10000.pt ./models/mnist/BaseLevelEncoder/enc_quantize_1_10000.pt\n",
      "Encoder_base(\n",
      "  (position): Random(784, 10000)\n",
      "  (value): Level(256, 10000)\n",
      ")\n",
      "accFaulty  0.8064000010490417\n",
      "10000 BaseLevelEncoder 1 mnist 0.03 1 5\n",
      "./models/mnist/BaseLevelEncoder/quantize_1_10000.pt ./models/mnist/BaseLevelEncoder/enc_quantize_1_10000.pt\n",
      "Encoder_base(\n",
      "  (position): Random(784, 10000)\n",
      "  (value): Level(256, 10000)\n",
      ")\n",
      "accFaulty  0.7998999953269958\n",
      "10000 BaseLevelEncoder 1 mnist 0.06 1 5\n",
      "./models/mnist/BaseLevelEncoder/quantize_1_10000.pt ./models/mnist/BaseLevelEncoder/enc_quantize_1_10000.pt\n",
      "Encoder_base(\n",
      "  (position): Random(784, 10000)\n",
      "  (value): Level(256, 10000)\n",
      ")\n",
      "accFaulty  0.7879999876022339\n",
      "10000 BaseLevelEncoder 1 mnist 0.09 1 5\n",
      "./models/mnist/BaseLevelEncoder/quantize_1_10000.pt ./models/mnist/BaseLevelEncoder/enc_quantize_1_10000.pt\n",
      "Encoder_base(\n",
      "  (position): Random(784, 10000)\n",
      "  (value): Level(256, 10000)\n",
      ")\n",
      "accFaulty  0.76419997215271\n",
      "10000 BaseLevelEncoder 1 mnist 0.12 1 5\n",
      "./models/mnist/BaseLevelEncoder/quantize_1_10000.pt ./models/mnist/BaseLevelEncoder/enc_quantize_1_10000.pt\n",
      "Encoder_base(\n",
      "  (position): Random(784, 10000)\n",
      "  (value): Level(256, 10000)\n",
      ")\n",
      "accFaulty  0.7562000155448914\n",
      "10000 BaseLevelEncoder 1 mnist 0.15 1 5\n",
      "./models/mnist/BaseLevelEncoder/quantize_1_10000.pt ./models/mnist/BaseLevelEncoder/enc_quantize_1_10000.pt\n",
      "Encoder_base(\n",
      "  (position): Random(784, 10000)\n",
      "  (value): Level(256, 10000)\n",
      ")\n",
      "accFaulty  0.6841999888420105\n",
      "10000 BaseLevelEncoder 1 mnist 0.18 1 5\n",
      "./models/mnist/BaseLevelEncoder/quantize_1_10000.pt ./models/mnist/BaseLevelEncoder/enc_quantize_1_10000.pt\n",
      "Encoder_base(\n",
      "  (position): Random(784, 10000)\n",
      "  (value): Level(256, 10000)\n",
      ")\n",
      "accFaulty  0.6958000063896179\n",
      "10000 BaseLevelEncoder 1 mnist 0.21 1 5\n",
      "./models/mnist/BaseLevelEncoder/quantize_1_10000.pt ./models/mnist/BaseLevelEncoder/enc_quantize_1_10000.pt\n",
      "Encoder_base(\n",
      "  (position): Random(784, 10000)\n",
      "  (value): Level(256, 10000)\n",
      ")\n",
      "accFaulty  0.6211000084877014\n",
      "10000 BaseLevelEncoder 1 mnist 0.24 1 5\n",
      "./models/mnist/BaseLevelEncoder/quantize_1_10000.pt ./models/mnist/BaseLevelEncoder/enc_quantize_1_10000.pt\n",
      "Encoder_base(\n",
      "  (position): Random(784, 10000)\n",
      "  (value): Level(256, 10000)\n",
      ")\n",
      "accFaulty  0.545199990272522\n",
      "10000 BaseLevelEncoder 1 mnist 0.27 1 5\n",
      "./models/mnist/BaseLevelEncoder/quantize_1_10000.pt ./models/mnist/BaseLevelEncoder/enc_quantize_1_10000.pt\n",
      "Encoder_base(\n",
      "  (position): Random(784, 10000)\n",
      "  (value): Level(256, 10000)\n",
      ")\n",
      "accFaulty  0.49000000953674316\n",
      "10000 BaseLevelEncoder 1 mnist 0.30000000000000004 1 5\n",
      "./models/mnist/BaseLevelEncoder/quantize_1_10000.pt ./models/mnist/BaseLevelEncoder/enc_quantize_1_10000.pt\n",
      "Encoder_base(\n",
      "  (position): Random(784, 10000)\n",
      "  (value): Level(256, 10000)\n",
      ")\n",
      "accFaulty  0.2985000014305115\n",
      "10000 BaseLevelEncoder 1 mnist 0.33000000000000007 1 5\n",
      "./models/mnist/BaseLevelEncoder/quantize_1_10000.pt ./models/mnist/BaseLevelEncoder/enc_quantize_1_10000.pt\n",
      "Encoder_base(\n",
      "  (position): Random(784, 10000)\n",
      "  (value): Level(256, 10000)\n",
      ")\n",
      "accFaulty  0.2160000056028366\n"
     ]
    },
    {
     "data": {
      "image/png": "[encoded data removed]",
      "text/plain": [
       "<Figure size 640x480 with 1 Axes>"
      ]
     },
     "metadata": {},
     "output_type": "display_data"
    }
   ],
   "source": [
    "DIMENSION = ['5000', '10000']\n",
    "encoders = [ 'BaseLevelEncoder'] # 'BaseLevelEncoder',\n",
    "datasets = ['isolet', 'mnist']\n",
    "font_size = 20\n",
    " \n",
    "for encoder in encoders:\n",
    "    for data in datasets:\n",
    "        for d in DIMENSION:\n",
    "            if d == 'isolet':\n",
    "                correction = 2\n",
    "                ecc_bits = 10\n",
    "            else:\n",
    "                correction = 1\n",
    "                ecc_bits = 5\n",
    "            # for correction in range(1,3):\n",
    "            faults = 0\n",
    "            while faults < 0.35:\n",
    "                counterReplace = 0\n",
    "                counterExchange = 0\n",
    "                # print(faults, end=\" : \")\n",
    "                print(d, encoder, '1',  data, faults, correction, ecc_bits)\n",
    "                accFaulty = get_accuracy_with_correction(d, encoder, '1',  data, faults, correction, ecc_bits)\n",
    "                faults = faults + 0.03\n",
    "                log_run_result(faults/(int(d)*10), accFaulty, d, encoder, data)\n",
    "            plot_results(d, encoder, data)"
   ]
  },
  {
   "cell_type": "code",
   "execution_count": 7,
   "metadata": {},
   "outputs": [
    {
     "name": "stdout",
     "output_type": "stream",
     "text": [
      "Complete VHDL ROM module written to MNIST_ECC_CHVs/ECC_CHV_img_10000.vhdl\n"
     ]
    }
   ],
   "source": [
    "def convert_mif_to_vhdl_module(mif_path, number_of_classes = 5, output_path=\"trans_CHV_mem_10000.vhdl\"):\n",
    "    with open(mif_path, 'r') as file:\n",
    "        lines = file.readlines()\n",
    "\n",
    "    # Flatten data lines, remove commas and newlines\n",
    "    data = ''.join(lines).replace(',', '').replace('\\n', '')\n",
    "    data_chunks = [data[i:i+number_of_classes] for i in range(0, len(data), number_of_classes)]  # 8-bit words\n",
    "\n",
    "    address_width = (len(data_chunks) - 1).bit_length()\n",
    "    entity_name = mif_path[:-4]\n",
    "    output_path=entity_name+\".vhdl\"\n",
    "    with open(output_path, 'w') as vhdl_file:\n",
    "        vhdl_file.write(f\"library IEEE;\\nuse IEEE.STD_LOGIC_1164.ALL;\\nuse IEEE.STD_LOGIC_UNSIGNED.ALL;\\n\\n\")\n",
    "        vhdl_file.write(f\"entity {entity_name} is\\n\")\n",
    "        vhdl_file.write(f\"    Port (\\n\")\n",
    "        vhdl_file.write(f\"        clk     : in  STD_LOGIC;\\n\")\n",
    "        vhdl_file.write(f\"        address : in  STD_LOGIC_VECTOR({address_width - 1} downto 0);\\n\")\n",
    "        vhdl_file.write(f\"        data    : out STD_LOGIC_VECTOR({number_of_classes} downto 0)\\n\")\n",
    "        vhdl_file.write(f\"    );\\n\")\n",
    "        vhdl_file.write(f\"end {entity_name};\\n\\n\")\n",
    "\n",
    "        vhdl_file.write(f\"architecture Behavioral of {entity_name} is\\n\")\n",
    "        vhdl_file.write(f\"begin\\n\")\n",
    "        vhdl_file.write(f\"    process(clk)\\n\")\n",
    "        vhdl_file.write(f\"    begin\\n\")\n",
    "        vhdl_file.write(f\"        if rising_edge(clk) then\\n\")\n",
    "        vhdl_file.write(f\"            case address is\\n\")\n",
    "        for i, word in enumerate(data_chunks):\n",
    "            vhdl_file.write(f\"                when x\\\"{i:02X}\\\" => data <= \\\"{word}\\\";\\n\")\n",
    "        vhdl_file.write(f\"                when others => data <= (others => '0');\\n\")\n",
    "        vhdl_file.write(f\"            end case;\\n\")\n",
    "        vhdl_file.write(f\"        end if;\\n\")\n",
    "        vhdl_file.write(f\"    end process;\\n\")\n",
    "        vhdl_file.write(f\"end Behavioral;\\n\")\n",
    "\n",
    "    print(f\"Complete VHDL ROM module written to {output_path}\")\n",
    "# mif_to_vhdl_case.py\n",
    "\n",
    "convert_mif_to_vhdl_module(\"MNIST_ECC_CHVs/ECC_CHV_img_10000.mif\")\n"
   ]
  },
  {
   "cell_type": "code",
   "execution_count": null,
   "metadata": {},
   "outputs": [],
   "source": []
  },
  {
   "cell_type": "code",
   "execution_count": null,
   "metadata": {},
   "outputs": [],
   "source": [
    "DIMENSION = [1000, 5000, 10000]\n",
    "\n",
    "quantize = [1, 8]\n",
    "\n",
    "encoders = [\"RandomProjectionEncoder\", \"BaseLevelEncoder\"]\n",
    "\n",
    "averaging = [0,10]"
   ]
  },
  {
   "cell_type": "code",
   "execution_count": null,
   "metadata": {},
   "outputs": [],
   "source": [
    "#ISOLET\n",
    "\n",
    "# DIMENSIONS = 5000  # number of hypervector dimensions\n",
    "NUM_LEVELS = 100\n",
    "\n",
    "\n",
    "train_ds = ISOLET(\"data/\", train=True, download=False)\n",
    "train_ld = torch.utils.data.DataLoader(train_ds, batch_size=BATCH_SIZE, shuffle=True)\n",
    "\n",
    "test_ds = ISOLET(\"data/\", train=False, download=False)\n",
    "test_ld = torch.utils.data.DataLoader(test_ds, batch_size=BATCH_SIZE, shuffle=False)\n",
    "\n",
    "num_classes = len(train_ds.classes)\n",
    "\n",
    "for d in DIMENSION:\n",
    "    for q in quantize:\n",
    "        for Encoder in encoders:\n",
    "            \n",
    "            model, encode, accuracy = train_model(Encoder,\n",
    "                                        NUM_LEVELS,\n",
    "                                        d,\n",
    "                                        train_ds[0][0].size(-1),\n",
    "                                        num_classes,\n",
    "                                        q,\n",
    "                                        \"isolet\",\n",
    "                                        train_ld,\n",
    "                                        test_ld)\n",
    "\n",
    "            #inject fault\n",
    "            print(\"quantize_\"+str(q)+\"_\"+str(d))\n",
    "            print(f\"Testing accuracy of {(accuracy.compute().item() * 100):.3f}%\")\n",
    "            w = model.weight.data.detach().clone()\n",
    "            \n",
    "            for avg in range(averaging[0], averaging[1]):\n",
    "                df = pd.DataFrame(columns=[\n",
    "                'Fault %', 'Accuracy'\n",
    "                ])\n",
    "                faultyPoints = 0\n",
    "\n",
    "                while faultyPoints < d*num_classes*q:\n",
    "                    \n",
    "                    accuracies = []\n",
    "                    dotsim = []\n",
    "                    dotsim10 = []\n",
    "                    classification = []\n",
    "                    model_faulty = Centroid(d, num_classes)\n",
    "                    model_faulty = model_faulty.to(device)\n",
    "                    model_faulty.weight.data = w.clone()\n",
    "                    \n",
    "                    model_faulty.weight.data = inject_fault(model_faulty, amount=faultyPoints, bits=q).to(device)\n",
    "\n",
    "                    accuracy = torchmetrics.Accuracy(\"multiclass\", num_classes=num_classes)\n",
    "                    with torch.no_grad():\n",
    "                        # model.normalize(quantize = q)\n",
    "                        for samples, labels in tqdm(test_ld, desc=\"Testing\", disable= True):\n",
    "                            samples = samples.to(device)\n",
    "                            samples_hv = encode(samples)\n",
    "                            outputs = model_faulty(samples_hv, dot=True)\n",
    "                            accuracy.update(outputs.cpu(), labels)\n",
    "                            dotsim.extend(torch.max(outputs.cpu(),dim=1).values.tolist())\n",
    "                            dotsim10.extend(np.sort(outputs.cpu().detach().numpy()))\n",
    "                            classification.extend(torch.argmax(outputs.cpu(),dim=1).tolist())\n",
    "                    \n",
    "                    dotsimbase = np.array(dotsim)\n",
    "                    dotsimbase10 = np.array(dotsim10) \n",
    "                    classification = np.array(classification)\n",
    "\n",
    "                    np.save(\"./models/isolet/\" + encode.name + \"/faulty/\" + \"quantize_\"+str(q)+\"_\"+str(d)+\"_\"+str(avg)+\"_\"+\"dotsimbase10\"+\".npy\", dotsimbase10)\n",
    "                    np.save(\"./models/isolet/\" + encode.name + \"/faulty/\" + \"quantize_\"+str(q)+\"_\"+str(d)+\"_\"+str(avg)+\"_\"+\"dotsimbase\"+\".npy\", dotsimbase)\n",
    "                    np.save(\"./models/isolet/\" + encode.name + \"/faulty/\" + \"quantize_\"+str(q)+\"_\"+str(d)+\"_\"+str(avg)+\"_\"+\"classified\"+\".npy\", classification)\n",
    "\n",
    "                    row = {\n",
    "                            'Fault %': [faultyPoints/(d*num_classes*q)],\n",
    "                            'Accuracy': [accuracy.compute().item() * 100],\n",
    "                        }\n",
    "                    faultyPoints = int(faultyPoints + (d*num_classes*q)/100)\n",
    "                    row = pd.DataFrame.from_dict(row)\n",
    "                    df = pd.concat([df,row], ignore_index=True)\n",
    "                print(df)\n",
    "                df.to_excel(\"./models/isolet/\" + encode.name + \"/faulty/quantize_\"+str(q)+\"_\"+str(d)+\"_\"+str(avg)+\"result.xlsx\", index=False)               \n",
    "        "
   ]
  },
  {
   "cell_type": "code",
   "execution_count": null,
   "metadata": {},
   "outputs": [],
   "source": [
    "#UCI_HAR_Dataset\n",
    "\n",
    "# Paths to the dataset\n",
    "train_data_path = 'data/UCI_HAR_Dataset/train/X_train.txt'\n",
    "train_labels_path = 'data/UCI_HAR_Dataset/train/y_train.txt'\n",
    "test_data_path = 'data/UCI_HAR_Dataset/test/X_test.txt'\n",
    "test_labels_path = 'data/UCI_HAR_Dataset/test/y_test.txt'\n",
    "\n",
    "# Load the dataset\n",
    "train_data = pd.read_csv(train_data_path, delim_whitespace=True, header=None)\n",
    "train_labels = pd.read_csv(train_labels_path, delim_whitespace=True, header=None)\n",
    "test_data = pd.read_csv(test_data_path, delim_whitespace=True, header=None)\n",
    "test_labels = pd.read_csv(test_labels_path, delim_whitespace=True, header=None)\n",
    "\n",
    "# Convert data to PyTorch tensors\n",
    "train_data_tensor = torch.tensor(train_data.values, dtype=torch.float32)\n",
    "train_labels_tensor = torch.tensor(train_labels.values.squeeze(), dtype=torch.long) - 1\n",
    "test_data_tensor = torch.tensor(test_data.values, dtype=torch.float32)\n",
    "test_labels_tensor = torch.tensor(test_labels.values.squeeze(), dtype=torch.long) - 1\n",
    "\n",
    "# Create TensorDatasets\n",
    "train_dataset = TensorDataset(train_data_tensor, train_labels_tensor)\n",
    "test_dataset = TensorDataset(test_data_tensor, test_labels_tensor)\n",
    "\n",
    "# Create DataLoaders\n",
    "train_ld = DataLoader(train_dataset, batch_size=BATCH_SIZE, shuffle=True)\n",
    "test_ld = DataLoader(test_dataset, batch_size=BATCH_SIZE, shuffle=False)\n",
    "\n",
    "NUM_LEVELS = 1000\n",
    "IMG_SIZE = 561\n",
    "num_classes = 7 #len(train_loader.classes)\n",
    "print(num_classes)\n",
    "\n",
    "for d in DIMENSION:\n",
    "    for q in quantize:\n",
    "        for Encoder in encoders:\n",
    "\n",
    "            model, encode, accuracy = train_model(Encoder,\n",
    "                                        NUM_LEVELS,\n",
    "                                        d,\n",
    "                                        IMG_SIZE,\n",
    "                                        num_classes,\n",
    "                                        q,\n",
    "                                        \"ucihar\",\n",
    "                                        train_ld,\n",
    "                                        test_ld)\n",
    "            \n",
    "            print(\"quantize_\"+str(q)+\"_\"+str(d))\n",
    "            print(f\"Testing accuracy of {(accuracy.compute().item() * 100):.3f}%\")\n",
    "\n",
    "            w = model.weight.data.detach().clone()\n",
    "            for avg in range(averaging[0], averaging[1]):\n",
    "                df = pd.DataFrame(columns=[\n",
    "                'Fault %', 'Accuracy'\n",
    "                ])\n",
    "                faultyPoints = 0\n",
    "                \n",
    "                while faultyPoints < d*num_classes*q:\n",
    "                    \n",
    "                    accuracies = []\n",
    "                    dotsim = []\n",
    "                    dotsim10 = []\n",
    "                    classification = []\n",
    "                    model_faulty = Centroid(d, num_classes)\n",
    "                    model_faulty = model_faulty.to(device)\n",
    "                    model_faulty.weight.data = w.clone()\n",
    "                    \n",
    "                    model_faulty.weight.data = inject_fault(model_faulty, amount=faultyPoints, bits=q).to(device)\n",
    "\n",
    "                    accuracy = torchmetrics.Accuracy(\"multiclass\", num_classes=num_classes)\n",
    "                    with torch.no_grad():\n",
    "                        # model.normalize(quantize = q)\n",
    "                        for samples, labels in tqdm(test_ld, desc=\"Testing\", disable= True):\n",
    "                            samples = samples.to(device)\n",
    "                            samples_hv = encode(samples)\n",
    "                            outputs = model_faulty(samples_hv, dot=True)\n",
    "                            accuracy.update(outputs.cpu(), labels)\n",
    "                            dotsim.extend(torch.max(outputs.cpu(),dim=1).values.tolist())\n",
    "                            dotsim10.extend(np.sort(outputs.cpu().detach().numpy()))\n",
    "                            classification.extend(torch.argmax(outputs.cpu(),dim=1).tolist())\n",
    "                    \n",
    "                    dotsimbase = np.array(dotsim)\n",
    "                    dotsimbase10 = np.array(dotsim10) \n",
    "                    classification = np.array(classification)\n",
    "\n",
    "                    np.save(\"./models/ucihar/\" + encode.name + \"/faulty/\" + \"quantize_\"+str(q)+\"_\"+str(d)+\"_\"+str(avg)+\"_\"+\"dotsimbase10\"+\".npy\", dotsimbase10)\n",
    "                    np.save(\"./models/ucihar/\" + encode.name + \"/faulty/\" + \"quantize_\"+str(q)+\"_\"+str(d)+\"_\"+str(avg)+\"_\"+\"dotsimbase\"+\".npy\", dotsimbase)\n",
    "                    np.save(\"./models/ucihar/\" + encode.name + \"/faulty/\" + \"quantize_\"+str(q)+\"_\"+str(d)+\"_\"+str(avg)+\"_\"+\"classified\"+\".npy\", classification)\n",
    "\n",
    "                    row = {\n",
    "                            'Fault %': [faultyPoints/(d*num_classes*q)],\n",
    "                            'Accuracy': [accuracy.compute().item() * 100],\n",
    "                        }\n",
    "                    faultyPoints = int(faultyPoints + (d*num_classes*q)/100)\n",
    "                    row = pd.DataFrame.from_dict(row)\n",
    "                    df = pd.concat([df,row], ignore_index=True)\n",
    "                print(df)\n",
    "                df.to_excel(\"./models/ucihar/\" + encode.name + \"/faulty/quantize_\"+str(q)+\"_\"+str(d)+\"_\"+str(avg)+\"result.xlsx\", index=False)               \n",
    "        "
   ]
  },
  {
   "cell_type": "code",
   "execution_count": null,
   "metadata": {},
   "outputs": [],
   "source": [
    "#MNIST dataset\n",
    "\n",
    "transform = torchvision.transforms.ToTensor()\n",
    "\n",
    "\n",
    "train_ds = MNIST(\"data\", train=True, transform=transform, download=True)\n",
    "train_ld = torch.utils.data.DataLoader(train_ds, batch_size=BATCH_SIZE, shuffle=True)\n",
    "test_ds = MNIST(\"data\", train=False, transform=transform, download=True)\n",
    "test_ld = torch.utils.data.DataLoader(test_ds, batch_size=BATCH_SIZE, shuffle=False)\n",
    "\n",
    "\n",
    "\n",
    "NUM_LEVELS = 256\n",
    "IMG_SIZE = 28*28\n",
    "num_classes = 10 \n",
    "\n",
    "for d in DIMENSION:\n",
    "    for q in quantize:\n",
    "        for enc in encoders:\n",
    "            print(\"quantize_\"+str(q)+\"_\"+str(d))\n",
    "            model, encode, accuracy = train_model(enc,\n",
    "                                        NUM_LEVELS,\n",
    "                                        d,\n",
    "                                        IMG_SIZE,\n",
    "                                        num_classes,\n",
    "                                        q,\n",
    "                                        \"mnist\",\n",
    "                                        train_ld,\n",
    "                                        test_ld,\n",
    "                                        flatten=True,runs=10)\n",
    "            \n",
    "            print(f\"Testing accuracy of {(accuracy.compute().item() * 100):.3f}%\")\n",
    "\n",
    "            w = model.weight.data.detach().clone()\n",
    "            #inject fault\n",
    "            for avg in range(averaging[0], averaging[1]):\n",
    "                faultyPoints = 0\n",
    "                w = model.weight.data.detach().clone()\n",
    "                df = pd.DataFrame(columns=[\n",
    "                        'Fault %', 'Accuracy'\n",
    "                    ])\n",
    "                while faultyPoints < d*num_classes*q:\n",
    "\n",
    "                    accuracies = []\n",
    "                    dotsim = []\n",
    "                    dotsim10 = []\n",
    "                    classification = []\n",
    "                    model_faulty = Centroid(d, num_classes)\n",
    "                    model_faulty = model_faulty.to(device)\n",
    "                    model_faulty.weight.data = w.clone()\n",
    "                    model_faulty.weight.data = inject_fault(model_faulty, amount=faultyPoints, bits=q).to(device)\n",
    "                    \n",
    "                    accuracy = torchmetrics.Accuracy(\"multiclass\", num_classes=num_classes)\n",
    "                    with torch.no_grad():\n",
    "                        # model.normalize(quantize = q)\n",
    "                        for samples, labels in tqdm(test_ld, desc=\"Testing\", disable= True):\n",
    "                            samples = samples.to(device)\n",
    "                            samples = samples.flatten(start_dim=-2)\n",
    "                            samples_hv = encode(samples)\n",
    "                            outputs = model_faulty(samples_hv, dot=True)\n",
    "                            accuracy.update(torch.argmax(outputs.cpu(),dim=-1).flatten(), labels)\n",
    "                            dotsim.extend(torch.max(outputs.cpu(),dim=1).values.tolist())\n",
    "                            dotsim10.extend(np.sort(outputs.cpu().detach().numpy()))\n",
    "                            classification.extend(torch.argmax(outputs.cpu(),dim=1).tolist())\n",
    "                    \n",
    "                    dotsimbase = np.array(dotsim)\n",
    "                    dotsimbase10 = np.array(dotsim10)\n",
    "                    classification = np.array(classification)\n",
    "\n",
    "                    np.save(\"./models/mnist/\" + encode.name + \"/faulty/\" + \"quantize_\"+str(q)+\"_\"+str(d)+\"_\"+str(avg)+\"_\"+\"dotsimbase10\"+\".npy\", dotsimbase10)\n",
    "                    np.save(\"./models/mnist/\" + encode.name + \"/faulty/\" + \"quantize_\"+str(q)+\"_\"+str(d)+\"_\"+str(avg)+\"_\"+\"dotsimbase\"+\".npy\", dotsimbase)\n",
    "                    np.save(\"./models/mnist/\" + encode.name + \"/faulty/\" + \"quantize_\"+str(q)+\"_\"+str(d)+\"_\"+str(avg)+\"_\"+\"classified\"+\".npy\", classification)\n",
    "\n",
    "                    row = {\n",
    "                            'Fault %': [faultyPoints/(d*num_classes*q)],\n",
    "                            'Accuracy': [accuracy.compute().item() * 100],\n",
    "                        }\n",
    "                    faultyPoints = int(faultyPoints + (d*num_classes*q)/100)\n",
    "                    row = pd.DataFrame.from_dict(row)\n",
    "                    df = pd.concat([df,row], ignore_index=True)\n",
    "                print(df)\n",
    "                df.to_excel(\"./models/mnist/\" + encode.name + \"/faulty/quantize_\"+str(q)+\"_\"+str(d)+\"_\"+str(avg)+\"result.xlsx\", index=False)               \n",
    "        "
   ]
  },
  {
   "cell_type": "code",
   "execution_count": null,
   "metadata": {},
   "outputs": [],
   "source": []
  }
 ],
 "metadata": {
  "kernelspec": {
   "display_name": "base",
   "language": "python",
   "name": "python3"
  },
  "language_info": {
   "codemirror_mode": {
    "name": "ipython",
    "version": 3
   },
   "file_extension": ".py",
   "mimetype": "text/x-python",
   "name": "python",
   "nbconvert_exporter": "python",
   "pygments_lexer": "ipython3",
   "version": "3.12.9"
  }
 },
 "nbformat": 4,
 "nbformat_minor": 2
}
